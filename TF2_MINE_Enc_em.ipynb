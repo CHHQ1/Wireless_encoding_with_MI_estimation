{
 "cells": [
  {
   "cell_type": "code",
   "execution_count": 1,
   "metadata": {},
   "outputs": [],
   "source": [
    "import sys\n",
    "assert sys.version_info >= (3, 5)\n",
    "import numpy as np\n",
    "%matplotlib inline\n",
    "import matplotlib as mpl\n",
    "import matplotlib.pyplot as plt\n",
    "mpl.rc('axes', labelsize=14)\n",
    "mpl.rc('xtick', labelsize=12)\n",
    "mpl.rc('ytick', labelsize=12)\n",
    "import tensorflow as tf\n",
    "from tensorflow import keras\n",
    "import pandas as pd\n",
    "from scipy import special\n",
    "from tensorflow.keras import layers\n",
    "np.random.seed(42)\n",
    "tf.random.set_seed(42)"
   ]
  },
  {
   "cell_type": "code",
   "execution_count": 2,
   "metadata": {},
   "outputs": [],
   "source": [
    "M = 16\n",
    "k = int(np.log2(M))\n",
    "n = 1\n",
    "TRAINING_SNR = 7"
   ]
  },
  {
   "cell_type": "code",
   "execution_count": 3,
   "metadata": {},
   "outputs": [],
   "source": [
    "def EbNo_to_noise(ebnodb):\n",
    "    '''Transform EbNo[dB]/snr to noise power'''\n",
    "    ebno = 10**(ebnodb/10)\n",
    "    noise_std = 1/np.sqrt(2*(k/n)*ebno) \n",
    "    return noise_std\n",
    "\n",
    "def SNR_to_noise(snrdb):\n",
    "    '''Transform EbNo[dB]/snr to noise power'''\n",
    "    snr = 10**(snrdb/10)\n",
    "    noise_std = 1/np.sqrt(2*snr)\n",
    "    return noise_std"
   ]
  },
  {
   "cell_type": "code",
   "execution_count": 4,
   "metadata": {},
   "outputs": [],
   "source": [
    "randN_05 = keras.initializers.RandomNormal(mean=0.0, stddev=0.05, seed=None)\n",
    "bias_init = keras.initializers.Constant(0.01)\n",
    "\n",
    "input_A = keras.layers.Input(shape=[4*n])\n",
    "input_B = keras.layers.Input(shape=[4*n])\n",
    "    \n",
    "transform = keras.models.Sequential([\n",
    "layers.Dense(256, bias_initializer=bias_init, kernel_initializer=randN_05, activation=\"relu\"),\n",
    "#keras.layers.Dropout(rate=0.3), # To regularize higher dimensionality\n",
    "layers.Dense(256, bias_initializer=bias_init, kernel_initializer=randN_05, activation=\"relu\"),\n",
    "#keras.layers.Dropout(rate=0.3), # To regularize higher dimensionality\n",
    "layers.Dense(1, bias_initializer=bias_init, kernel_initializer=randN_05, activation=None)])\n",
    "\n",
    "output_A = transform(input_A)\n",
    "output_B = transform(input_B)\n",
    "output_C = tf.reduce_mean(output_A) - tf.math.log(tf.reduce_mean(tf.exp(output_B))) # MINE\n",
    "MI_mod = keras.models.Model(inputs=[input_A, input_B], outputs=output_C)"
   ]
  },
  {
   "cell_type": "code",
   "execution_count": 5,
   "metadata": {},
   "outputs": [],
   "source": [
    "noise_std = EbNo_to_noise(TRAINING_SNR)\n",
    "# custom functions / layers without weights\n",
    "norm_layer = keras.layers.Lambda(lambda x: tf.divide(x,tf.sqrt(2*tf.reduce_mean(tf.square(x)))))\n",
    "shape_layer = keras.layers.Lambda(lambda x: tf.reshape(x, shape=[-1,2,n]))\n",
    "shape_layer2 = keras.layers.Lambda(lambda x: tf.reshape(x, shape=[-1,2*n]))\n",
    "channel_layer = keras.layers.Lambda(lambda x: \n",
    "                    tf.stop_gradient(x + tf.random.normal(tf.shape(x), mean=0.0, stddev=noise_std)))\n",
    "\n",
    "encoder = keras.models.Sequential([\n",
    "            keras.layers.Embedding(M, M, embeddings_initializer='glorot_normal'),\n",
    "            keras.layers.Dense(M, activation=\"elu\"),\n",
    "            keras.layers.Dense(2*n, activation=None),\n",
    "            shape_layer,\n",
    "            norm_layer])\n",
    "\n",
    "channel = keras.models.Sequential([channel_layer])\n",
    "\n",
    "decoder = keras.models.Sequential([\n",
    "                keras.layers.InputLayer(input_shape=[2,n]),\n",
    "                shape_layer2,\n",
    "                keras.layers.Dense(M, activation=\"elu\"),\n",
    "                keras.layers.Dense(M, activation=\"softmax\")\n",
    "                ])\n",
    "\n",
    "autoencoder = keras.models.Sequential([encoder, channel, decoder])"
   ]
  },
  {
   "cell_type": "code",
   "execution_count": 6,
   "metadata": {},
   "outputs": [],
   "source": [
    "def B_Ber_m(input_msg, msg):\n",
    "    '''Calculate the Batch Bit Error Rate'''\n",
    "    pred_error = tf.not_equal(input_msg, tf.argmax(msg, 1))      \n",
    "    bber = tf.reduce_mean(tf.cast(pred_error, tf.float32))\n",
    "    return bber"
   ]
  },
  {
   "cell_type": "code",
   "execution_count": 7,
   "metadata": {},
   "outputs": [],
   "source": [
    "def random_sample(batch_size=32):\n",
    "    msg = np.random.randint(M, size=batch_size)\n",
    "    return msg"
   ]
  },
  {
   "cell_type": "code",
   "execution_count": 8,
   "metadata": {},
   "outputs": [],
   "source": [
    "def test_encoding(M=16, n=1):\n",
    "    inp = np.arange(0,M)\n",
    "    coding = encoder.predict(inp)\n",
    "    fig = plt.figure(figsize=(4,4))\n",
    "    plt.plot(coding[:,0], coding[:, 1], \"b.\")\n",
    "    plt.xlabel(\"$x_1$\", fontsize=18)\n",
    "    plt.ylabel(\"$x_2$\", fontsize=18, rotation=0)\n",
    "    plt.grid(True)\n",
    "    plt.gca().set_ylim(-2, 2)\n",
    "    plt.gca().set_xlim(-2, 2)\n",
    "    plt.show()"
   ]
  },
  {
   "cell_type": "code",
   "execution_count": 9,
   "metadata": {},
   "outputs": [],
   "source": [
    "def test_noisy_codeword(data):\n",
    "    rcvd_word = data[1:2000]\n",
    "    fig = plt.figure(figsize=(4,4))\n",
    "    plt.plot(rcvd_word[:,0], rcvd_word[:, 1], \"b.\")\n",
    "    plt.xlabel(\"$x_1$\", fontsize=18)\n",
    "    plt.ylabel(\"$x_2$\", fontsize=18, rotation=0)\n",
    "    plt.grid(True)\n",
    "    plt.gca().set_ylim(-2, 2)\n",
    "    plt.gca().set_xlim(-2, 2)\n",
    "    plt.show()"
   ]
  },
  {
   "cell_type": "code",
   "execution_count": 10,
   "metadata": {},
   "outputs": [],
   "source": [
    "loss_fn = keras.losses.SparseCategoricalCrossentropy()\n",
    "mean_loss = keras.metrics.Mean()"
   ]
  },
  {
   "cell_type": "code",
   "execution_count": 11,
   "metadata": {},
   "outputs": [],
   "source": [
    "def plot_loss(step, epoch, mean_loss, X_batch, y_pred, plot_encoding):\n",
    "    template = 'Iteration: {}, Epoch: {}, Loss: {:.5f}, Batch_BER: {:.5f}'\n",
    "    if step % 10 == 0:\n",
    "        print(template.format(step, epoch, mean_loss.result(), B_Ber_m(X_batch, y_pred)))\n",
    "        if plot_encoding:\n",
    "            test_encoding()"
   ]
  },
  {
   "cell_type": "code",
   "execution_count": 12,
   "metadata": {},
   "outputs": [],
   "source": [
    "def plot_batch_loss(epoch, mean_loss, X_batch, y_pred):\n",
    "        template_outer_loop = 'Interim result for Epoch: {}, Loss: {:.5f}, Batch_BER: {:.5f}'\n",
    "        print(template_outer_loop.format(epoch, mean_loss.result(), B_Ber_m(X_batch, y_pred)))"
   ]
  },
  {
   "cell_type": "code",
   "execution_count": 13,
   "metadata": {},
   "outputs": [],
   "source": [
    "def split_train_data(x_sample, y_sample):\n",
    "    x_shaped = tf.reshape(x_sample, shape=[-1,2*n])\n",
    "    y_shaped = tf.reshape(y_sample, shape=[-1,2*n])\n",
    "    x_sample1, x_sample2 = tf.split(x_shaped, num_or_size_splits=2)\n",
    "    y_sample1, y_sample2 = tf.split(y_shaped, num_or_size_splits=2)\n",
    "    joint_sample = tf.concat([x_sample1, y_sample1], axis=1)\n",
    "    marg_sample = tf.concat([x_sample2, y_sample1], axis=1)\n",
    "    return joint_sample, marg_sample"
   ]
  },
  {
   "cell_type": "code",
   "execution_count": 14,
   "metadata": {},
   "outputs": [],
   "source": [
    "def train_mi(n_epochs=5, n_steps=20, batch_size=200, learning_rate=0.005):\n",
    "    optimizer_mi = keras.optimizers.Nadam(lr=learning_rate)\n",
    "    for epoch in range(1, n_epochs + 1): \n",
    "        print(\"Training in Epoch {}/{}\".format(epoch, n_epochs)) \n",
    "        for step in range(1, n_steps + 1):\n",
    "            X_batch = random_sample(batch_size*2)\n",
    "            with tf.GradientTape() as tape:\n",
    "                x_enc = encoder(X_batch, training=True)\n",
    "                y_recv = channel(x_enc)\n",
    "                joint_marg_s = split_train_data(x_enc, y_recv)\n",
    "                loss = -MI_mod(joint_marg_s)\n",
    "                gradients = tape.gradient(loss, MI_mod.trainable_variables) \n",
    "                optimizer_mi.apply_gradients(zip(gradients, MI_mod.trainable_variables))\n",
    "            mi_avg = -mean_loss(loss)\n",
    "        print('Epoch: {}, Mi is {}'.format(epoch, mi_avg))\n",
    "        mean_loss.reset_states()"
   ]
  },
  {
   "cell_type": "code",
   "execution_count": 15,
   "metadata": {},
   "outputs": [],
   "source": [
    "def train_decoder(n_epochs=5, n_steps=20, batch_size=200, learning_rate=0.005, plot_encoding=True):\n",
    "    optimizer_ae = keras.optimizers.Nadam(lr=learning_rate)\n",
    "    for epoch in range(1, n_epochs + 1): \n",
    "        print(\"Training Bob in Epoch {}/{}\".format(epoch, n_epochs)) \n",
    "        for step in range(1, n_steps + 1):\n",
    "            X_batch  = random_sample(batch_size)\n",
    "            with tf.GradientTape() as tape:\n",
    "                y_pred = autoencoder(X_batch, training=True)\n",
    "                loss = tf.reduce_mean(loss_fn(X_batch, y_pred))\n",
    "                gradients = tape.gradient(loss, decoder.trainable_variables) \n",
    "                optimizer_ae.apply_gradients(zip(gradients, decoder.trainable_variables)) \n",
    "            mean_loss(loss)\n",
    "            plot_loss(step, epoch, mean_loss, X_batch, y_pred, plot_encoding)\n",
    "        plot_batch_loss(epoch, mean_loss, X_batch, y_pred) \n",
    "        mean_loss.reset_states()"
   ]
  },
  {
   "cell_type": "code",
   "execution_count": 16,
   "metadata": {},
   "outputs": [],
   "source": [
    "def train_encoder(n_epochs=5, n_steps=20, batch_size=200, learning_rate=0.05):\n",
    "    optimizer_mi = keras.optimizers.Nadam(lr=0.005)\n",
    "    optimizer_ae = keras.optimizers.Nadam(lr=learning_rate)\n",
    "    for epoch in range(1, n_epochs + 1): \n",
    "        print(\"Training Bob in Epoch {}/{}\".format(epoch, n_epochs)) \n",
    "        for step in range(1, n_steps + 1):\n",
    "            X_batch  = random_sample(batch_size)\n",
    "            with tf.GradientTape() as tape:\n",
    "                x_enc = encoder(X_batch, training=True)\n",
    "                y_recv = channel(x_enc)\n",
    "                joint_marg_s = split_train_data(x_enc, y_recv)\n",
    "                loss = -MI_mod(joint_marg_s)\n",
    "                gradients = tape.gradient(loss, encoder.trainable_variables) \n",
    "                optimizer_ae.apply_gradients(zip(gradients, encoder.trainable_variables))\n",
    "            mi_avg = -mean_loss(loss)\n",
    "        with tf.GradientTape() as tape:\n",
    "            X_batch  = random_sample(batch_size) \n",
    "            x_enc = encoder(X_batch, training=True)\n",
    "            y_recv = channel(x_enc)\n",
    "            joint_marg_s = split_train_data(x_enc, y_recv)\n",
    "            loss = -MI_mod(joint_marg_s)\n",
    "            gradients = tape.gradient(loss, MI_mod.trainable_variables) \n",
    "            optimizer_mi.apply_gradients(zip(gradients, MI_mod.trainable_variables))\n",
    "        print('Epoch: {}, Mi is {}'.format(epoch, mi_avg))\n",
    "       # test_encoding(M, 1)"
   ]
  },
  {
   "cell_type": "code",
   "execution_count": 17,
   "metadata": {},
   "outputs": [],
   "source": [
    "# test msg sequence for normal encoding\n",
    "N_test = 500000\n",
    "test_msg = np.random.randint(M, size=N_test)"
   ]
  },
  {
   "cell_type": "code",
   "execution_count": 18,
   "metadata": {},
   "outputs": [],
   "source": [
    "def Test_AE(data):\n",
    "    '''Calculate Bit Error for varying SNRs'''\n",
    "    snr_range = np.linspace(0, 15, 31)\n",
    "    bber_vec = [None] * len(snr_range)\n",
    "        \n",
    "    for db in range(len(snr_range)):           \n",
    "        noise_std = EbNo_to_noise(snr_range[db])\n",
    "        code_word = encoder(data)\n",
    "        rcvd_word = code_word + tf.random.normal(tf.shape(code_word), mean=0.0, stddev=noise_std)\n",
    "        dcoded_msg = decoder(rcvd_word)\n",
    "        bber_vec[db] = B_Ber_m(data, dcoded_msg)\n",
    "        if (db % 6 == 0) & (db > 0):\n",
    "            print(f'Progress: {db} of {30} parts')\n",
    "\n",
    "    return (snr_range, bber_vec)"
   ]
  },
  {
   "cell_type": "code",
   "execution_count": 19,
   "metadata": {},
   "outputs": [
    {
     "name": "stdout",
     "output_type": "stream",
     "text": [
      "Training in Epoch 1/1\n",
      "Epoch: 1, Mi is 1.947577953338623\n",
      "Training Bob in Epoch 1/5\n",
      "Epoch: 1, Mi is 1.954872727394104\n",
      "Training Bob in Epoch 2/5\n",
      "Epoch: 2, Mi is 1.8725825548171997\n",
      "Training Bob in Epoch 3/5\n",
      "Epoch: 3, Mi is 1.9257601499557495\n",
      "Training Bob in Epoch 4/5\n",
      "Epoch: 4, Mi is 1.932592511177063\n",
      "Training Bob in Epoch 5/5\n",
      "Epoch: 5, Mi is 1.914902925491333\n"
     ]
    },
    {
     "data": {
      "image/png": "[encoded data removed]",
      "text/plain": [
       "<Figure size 288x288 with 1 Axes>"
      ]
     },
     "metadata": {
      "needs_background": "light"
     },
     "output_type": "display_data"
    },
    {
     "name": "stdout",
     "output_type": "stream",
     "text": [
      "Training Bob in Epoch 1/5\n",
      "Epoch: 1, Mi is 1.9086277484893799\n",
      "Training Bob in Epoch 2/5\n",
      "Epoch: 2, Mi is 1.8656436204910278\n",
      "Training Bob in Epoch 3/5\n",
      "Epoch: 3, Mi is 1.848978877067566\n",
      "Training Bob in Epoch 4/5\n",
      "Epoch: 4, Mi is 1.8430954217910767\n",
      "Training Bob in Epoch 5/5\n",
      "Epoch: 5, Mi is 1.8521058559417725\n"
     ]
    },
    {
     "data": {
      "image/png": "[encoded data removed]",
      "text/plain": [
       "<Figure size 288x288 with 1 Axes>"
      ]
     },
     "metadata": {
      "needs_background": "light"
     },
     "output_type": "display_data"
    },
    {
     "name": "stdout",
     "output_type": "stream",
     "text": [
      "Training Bob in Epoch 1/5\n",
      "Iteration: 10, Epoch: 1, Loss: -1.84044, Batch_BER: 0.90600\n",
      "Iteration: 20, Epoch: 1, Loss: -1.82914, Batch_BER: 0.89000\n",
      "Iteration: 30, Epoch: 1, Loss: -1.81821, Batch_BER: 0.82000\n",
      "Iteration: 40, Epoch: 1, Loss: -1.80762, Batch_BER: 0.78400\n",
      "Iteration: 50, Epoch: 1, Loss: -1.79741, Batch_BER: 0.73800\n",
      "Iteration: 60, Epoch: 1, Loss: -1.78759, Batch_BER: 0.67800\n",
      "Iteration: 70, Epoch: 1, Loss: -1.77813, Batch_BER: 0.58800\n",
      "Iteration: 80, Epoch: 1, Loss: -1.76902, Batch_BER: 0.57200\n",
      "Iteration: 90, Epoch: 1, Loss: -1.76026, Batch_BER: 0.49200\n",
      "Iteration: 100, Epoch: 1, Loss: -1.75180, Batch_BER: 0.45600\n",
      "Iteration: 110, Epoch: 1, Loss: -1.74358, Batch_BER: 0.39600\n",
      "Iteration: 120, Epoch: 1, Loss: -1.73562, Batch_BER: 0.41200\n",
      "Iteration: 130, Epoch: 1, Loss: -1.72787, Batch_BER: 0.41000\n",
      "Iteration: 140, Epoch: 1, Loss: -1.72035, Batch_BER: 0.36600\n",
      "Iteration: 150, Epoch: 1, Loss: -1.71298, Batch_BER: 0.37400\n",
      "Iteration: 160, Epoch: 1, Loss: -1.70580, Batch_BER: 0.32600\n",
      "Iteration: 170, Epoch: 1, Loss: -1.69877, Batch_BER: 0.31800\n",
      "Iteration: 180, Epoch: 1, Loss: -1.69185, Batch_BER: 0.29800\n",
      "Iteration: 190, Epoch: 1, Loss: -1.68508, Batch_BER: 0.32800\n",
      "Iteration: 200, Epoch: 1, Loss: -1.67840, Batch_BER: 0.32200\n",
      "Iteration: 210, Epoch: 1, Loss: -1.67182, Batch_BER: 0.32400\n",
      "Iteration: 220, Epoch: 1, Loss: -1.66535, Batch_BER: 0.36800\n",
      "Iteration: 230, Epoch: 1, Loss: -1.65899, Batch_BER: 0.31800\n",
      "Iteration: 240, Epoch: 1, Loss: -1.65268, Batch_BER: 0.38000\n",
      "Iteration: 250, Epoch: 1, Loss: -1.64648, Batch_BER: 0.31000\n",
      "Iteration: 260, Epoch: 1, Loss: -1.64035, Batch_BER: 0.31600\n",
      "Iteration: 270, Epoch: 1, Loss: -1.63426, Batch_BER: 0.31400\n",
      "Iteration: 280, Epoch: 1, Loss: -1.62826, Batch_BER: 0.29600\n",
      "Iteration: 290, Epoch: 1, Loss: -1.62228, Batch_BER: 0.31200\n",
      "Iteration: 300, Epoch: 1, Loss: -1.61639, Batch_BER: 0.32600\n",
      "Iteration: 310, Epoch: 1, Loss: -1.61058, Batch_BER: 0.30400\n",
      "Iteration: 320, Epoch: 1, Loss: -1.60480, Batch_BER: 0.34800\n",
      "Iteration: 330, Epoch: 1, Loss: -1.59909, Batch_BER: 0.27800\n",
      "Iteration: 340, Epoch: 1, Loss: -1.59348, Batch_BER: 0.27800\n",
      "Iteration: 350, Epoch: 1, Loss: -1.58783, Batch_BER: 0.30000\n",
      "Iteration: 360, Epoch: 1, Loss: -1.58225, Batch_BER: 0.30000\n",
      "Iteration: 370, Epoch: 1, Loss: -1.57668, Batch_BER: 0.32200\n",
      "Iteration: 380, Epoch: 1, Loss: -1.57118, Batch_BER: 0.29400\n",
      "Iteration: 390, Epoch: 1, Loss: -1.56569, Batch_BER: 0.31600\n",
      "Iteration: 400, Epoch: 1, Loss: -1.56027, Batch_BER: 0.29200\n",
      "Interim result for Epoch: 1, Loss: -1.56027, Batch_BER: 0.29200\n",
      "Training Bob in Epoch 2/5\n",
      "Iteration: 10, Epoch: 2, Loss: 0.80442, Batch_BER: 0.29600\n",
      "Iteration: 20, Epoch: 2, Loss: 0.81113, Batch_BER: 0.30600\n",
      "Iteration: 30, Epoch: 2, Loss: 0.80848, Batch_BER: 0.29200\n",
      "Iteration: 40, Epoch: 2, Loss: 0.81272, Batch_BER: 0.33000\n",
      "Iteration: 50, Epoch: 2, Loss: 0.80866, Batch_BER: 0.31800\n",
      "Iteration: 60, Epoch: 2, Loss: 0.80279, Batch_BER: 0.29400\n",
      "Iteration: 70, Epoch: 2, Loss: 0.80125, Batch_BER: 0.29800\n",
      "Iteration: 80, Epoch: 2, Loss: 0.79958, Batch_BER: 0.32200\n",
      "Iteration: 90, Epoch: 2, Loss: 0.79837, Batch_BER: 0.31000\n",
      "Iteration: 100, Epoch: 2, Loss: 0.79834, Batch_BER: 0.33600\n",
      "Iteration: 110, Epoch: 2, Loss: 0.79707, Batch_BER: 0.30400\n",
      "Iteration: 120, Epoch: 2, Loss: 0.79538, Batch_BER: 0.28800\n",
      "Iteration: 130, Epoch: 2, Loss: 0.79470, Batch_BER: 0.30600\n",
      "Iteration: 140, Epoch: 2, Loss: 0.79338, Batch_BER: 0.30000\n",
      "Iteration: 150, Epoch: 2, Loss: 0.79308, Batch_BER: 0.30600\n",
      "Iteration: 160, Epoch: 2, Loss: 0.79311, Batch_BER: 0.30400\n",
      "Iteration: 170, Epoch: 2, Loss: 0.79260, Batch_BER: 0.33000\n",
      "Iteration: 180, Epoch: 2, Loss: 0.79146, Batch_BER: 0.31800\n",
      "Iteration: 190, Epoch: 2, Loss: 0.79027, Batch_BER: 0.32400\n",
      "Iteration: 200, Epoch: 2, Loss: 0.78859, Batch_BER: 0.29600\n",
      "Iteration: 210, Epoch: 2, Loss: 0.78741, Batch_BER: 0.31600\n",
      "Iteration: 220, Epoch: 2, Loss: 0.78686, Batch_BER: 0.30400\n",
      "Iteration: 230, Epoch: 2, Loss: 0.78602, Batch_BER: 0.31400\n",
      "Iteration: 240, Epoch: 2, Loss: 0.78454, Batch_BER: 0.30000\n",
      "Iteration: 250, Epoch: 2, Loss: 0.78365, Batch_BER: 0.31400\n",
      "Iteration: 260, Epoch: 2, Loss: 0.78358, Batch_BER: 0.30400\n",
      "Iteration: 270, Epoch: 2, Loss: 0.78256, Batch_BER: 0.31600\n",
      "Iteration: 280, Epoch: 2, Loss: 0.78242, Batch_BER: 0.27800\n",
      "Iteration: 290, Epoch: 2, Loss: 0.78218, Batch_BER: 0.31800\n",
      "Iteration: 300, Epoch: 2, Loss: 0.78166, Batch_BER: 0.29600\n",
      "Iteration: 310, Epoch: 2, Loss: 0.78100, Batch_BER: 0.30400\n",
      "Iteration: 320, Epoch: 2, Loss: 0.78042, Batch_BER: 0.30200\n",
      "Iteration: 330, Epoch: 2, Loss: 0.77994, Batch_BER: 0.32200\n",
      "Iteration: 340, Epoch: 2, Loss: 0.77890, Batch_BER: 0.29800\n",
      "Iteration: 350, Epoch: 2, Loss: 0.77833, Batch_BER: 0.29400\n",
      "Iteration: 360, Epoch: 2, Loss: 0.77774, Batch_BER: 0.28800\n",
      "Iteration: 370, Epoch: 2, Loss: 0.77751, Batch_BER: 0.31400\n",
      "Iteration: 380, Epoch: 2, Loss: 0.77718, Batch_BER: 0.30200\n",
      "Iteration: 390, Epoch: 2, Loss: 0.77618, Batch_BER: 0.30800\n",
      "Iteration: 400, Epoch: 2, Loss: 0.77582, Batch_BER: 0.33200\n",
      "Interim result for Epoch: 2, Loss: 0.77582, Batch_BER: 0.33200\n",
      "Training Bob in Epoch 3/5\n",
      "Iteration: 10, Epoch: 3, Loss: 0.75072, Batch_BER: 0.28800\n",
      "Iteration: 20, Epoch: 3, Loss: 0.74668, Batch_BER: 0.28000\n",
      "Iteration: 30, Epoch: 3, Loss: 0.74608, Batch_BER: 0.27600\n",
      "Iteration: 40, Epoch: 3, Loss: 0.74568, Batch_BER: 0.30400\n",
      "Iteration: 50, Epoch: 3, Loss: 0.74793, Batch_BER: 0.28800\n",
      "Iteration: 60, Epoch: 3, Loss: 0.74672, Batch_BER: 0.27600\n",
      "Iteration: 70, Epoch: 3, Loss: 0.74687, Batch_BER: 0.32400\n",
      "Iteration: 80, Epoch: 3, Loss: 0.74989, Batch_BER: 0.31600\n",
      "Iteration: 90, Epoch: 3, Loss: 0.74946, Batch_BER: 0.30800\n",
      "Iteration: 100, Epoch: 3, Loss: 0.74939, Batch_BER: 0.28000\n",
      "Iteration: 110, Epoch: 3, Loss: 0.74947, Batch_BER: 0.34600\n",
      "Iteration: 120, Epoch: 3, Loss: 0.74873, Batch_BER: 0.29400\n",
      "Iteration: 130, Epoch: 3, Loss: 0.74924, Batch_BER: 0.31800\n",
      "Iteration: 140, Epoch: 3, Loss: 0.74917, Batch_BER: 0.27200\n",
      "Iteration: 150, Epoch: 3, Loss: 0.74922, Batch_BER: 0.27200\n",
      "Iteration: 160, Epoch: 3, Loss: 0.74903, Batch_BER: 0.28600\n",
      "Iteration: 170, Epoch: 3, Loss: 0.74800, Batch_BER: 0.31000\n",
      "Iteration: 180, Epoch: 3, Loss: 0.74797, Batch_BER: 0.31000\n",
      "Iteration: 190, Epoch: 3, Loss: 0.74760, Batch_BER: 0.32600\n",
      "Iteration: 200, Epoch: 3, Loss: 0.74737, Batch_BER: 0.27000\n",
      "Iteration: 210, Epoch: 3, Loss: 0.74758, Batch_BER: 0.31600\n",
      "Iteration: 220, Epoch: 3, Loss: 0.74775, Batch_BER: 0.30600\n",
      "Iteration: 230, Epoch: 3, Loss: 0.74766, Batch_BER: 0.29800\n",
      "Iteration: 240, Epoch: 3, Loss: 0.74818, Batch_BER: 0.29600\n",
      "Iteration: 250, Epoch: 3, Loss: 0.74808, Batch_BER: 0.27400\n",
      "Iteration: 260, Epoch: 3, Loss: 0.74767, Batch_BER: 0.29800\n",
      "Iteration: 270, Epoch: 3, Loss: 0.74755, Batch_BER: 0.32400\n",
      "Iteration: 280, Epoch: 3, Loss: 0.74807, Batch_BER: 0.29200\n",
      "Iteration: 290, Epoch: 3, Loss: 0.74849, Batch_BER: 0.31000\n",
      "Iteration: 300, Epoch: 3, Loss: 0.74928, Batch_BER: 0.29000\n",
      "Iteration: 310, Epoch: 3, Loss: 0.74900, Batch_BER: 0.32200\n",
      "Iteration: 320, Epoch: 3, Loss: 0.74891, Batch_BER: 0.26600\n",
      "Iteration: 330, Epoch: 3, Loss: 0.74923, Batch_BER: 0.29400\n",
      "Iteration: 340, Epoch: 3, Loss: 0.74980, Batch_BER: 0.32000\n",
      "Iteration: 350, Epoch: 3, Loss: 0.74954, Batch_BER: 0.28800\n",
      "Iteration: 360, Epoch: 3, Loss: 0.74947, Batch_BER: 0.30400\n",
      "Iteration: 370, Epoch: 3, Loss: 0.74950, Batch_BER: 0.32600\n",
      "Iteration: 380, Epoch: 3, Loss: 0.74899, Batch_BER: 0.30800\n",
      "Iteration: 390, Epoch: 3, Loss: 0.74868, Batch_BER: 0.32000\n",
      "Iteration: 400, Epoch: 3, Loss: 0.74886, Batch_BER: 0.26600\n",
      "Interim result for Epoch: 3, Loss: 0.74886, Batch_BER: 0.26600\n",
      "Training Bob in Epoch 4/5\n",
      "Iteration: 10, Epoch: 4, Loss: 0.72395, Batch_BER: 0.29800\n",
      "Iteration: 20, Epoch: 4, Loss: 0.74683, Batch_BER: 0.29400\n",
      "Iteration: 30, Epoch: 4, Loss: 0.74701, Batch_BER: 0.27800\n",
      "Iteration: 40, Epoch: 4, Loss: 0.74157, Batch_BER: 0.29600\n",
      "Iteration: 50, Epoch: 4, Loss: 0.74290, Batch_BER: 0.29200\n",
      "Iteration: 60, Epoch: 4, Loss: 0.74425, Batch_BER: 0.29800\n",
      "Iteration: 70, Epoch: 4, Loss: 0.74519, Batch_BER: 0.30200\n",
      "Iteration: 80, Epoch: 4, Loss: 0.74333, Batch_BER: 0.27200\n",
      "Iteration: 90, Epoch: 4, Loss: 0.74465, Batch_BER: 0.32400\n",
      "Iteration: 100, Epoch: 4, Loss: 0.74576, Batch_BER: 0.30200\n",
      "Iteration: 110, Epoch: 4, Loss: 0.74517, Batch_BER: 0.28400\n",
      "Iteration: 120, Epoch: 4, Loss: 0.74712, Batch_BER: 0.32200\n"
     ]
    },
    {
     "name": "stdout",
     "output_type": "stream",
     "text": [
      "Iteration: 130, Epoch: 4, Loss: 0.74663, Batch_BER: 0.29000\n",
      "Iteration: 140, Epoch: 4, Loss: 0.74539, Batch_BER: 0.35400\n",
      "Iteration: 150, Epoch: 4, Loss: 0.74640, Batch_BER: 0.28600\n",
      "Iteration: 160, Epoch: 4, Loss: 0.74495, Batch_BER: 0.26000\n",
      "Iteration: 170, Epoch: 4, Loss: 0.74506, Batch_BER: 0.28600\n",
      "Iteration: 180, Epoch: 4, Loss: 0.74503, Batch_BER: 0.32000\n",
      "Iteration: 190, Epoch: 4, Loss: 0.74500, Batch_BER: 0.31200\n",
      "Iteration: 200, Epoch: 4, Loss: 0.74574, Batch_BER: 0.31400\n",
      "Iteration: 210, Epoch: 4, Loss: 0.74563, Batch_BER: 0.30800\n",
      "Iteration: 220, Epoch: 4, Loss: 0.74568, Batch_BER: 0.31600\n",
      "Iteration: 230, Epoch: 4, Loss: 0.74486, Batch_BER: 0.26600\n",
      "Iteration: 240, Epoch: 4, Loss: 0.74563, Batch_BER: 0.27800\n",
      "Iteration: 250, Epoch: 4, Loss: 0.74539, Batch_BER: 0.29400\n",
      "Iteration: 260, Epoch: 4, Loss: 0.74526, Batch_BER: 0.30800\n",
      "Iteration: 270, Epoch: 4, Loss: 0.74527, Batch_BER: 0.28800\n",
      "Iteration: 280, Epoch: 4, Loss: 0.74545, Batch_BER: 0.31200\n",
      "Iteration: 290, Epoch: 4, Loss: 0.74549, Batch_BER: 0.34400\n",
      "Iteration: 300, Epoch: 4, Loss: 0.74500, Batch_BER: 0.31000\n",
      "Iteration: 310, Epoch: 4, Loss: 0.74505, Batch_BER: 0.33600\n",
      "Iteration: 320, Epoch: 4, Loss: 0.74475, Batch_BER: 0.28200\n",
      "Iteration: 330, Epoch: 4, Loss: 0.74544, Batch_BER: 0.30800\n",
      "Iteration: 340, Epoch: 4, Loss: 0.74514, Batch_BER: 0.32200\n",
      "Iteration: 350, Epoch: 4, Loss: 0.74491, Batch_BER: 0.32800\n",
      "Iteration: 360, Epoch: 4, Loss: 0.74504, Batch_BER: 0.32400\n",
      "Iteration: 370, Epoch: 4, Loss: 0.74517, Batch_BER: 0.31400\n",
      "Iteration: 380, Epoch: 4, Loss: 0.74492, Batch_BER: 0.29000\n",
      "Iteration: 390, Epoch: 4, Loss: 0.74492, Batch_BER: 0.27600\n",
      "Iteration: 400, Epoch: 4, Loss: 0.74463, Batch_BER: 0.31800\n",
      "Interim result for Epoch: 4, Loss: 0.74463, Batch_BER: 0.31800\n",
      "Training Bob in Epoch 5/5\n",
      "Iteration: 10, Epoch: 5, Loss: 0.75468, Batch_BER: 0.30800\n",
      "Iteration: 20, Epoch: 5, Loss: 0.75060, Batch_BER: 0.31200\n",
      "Iteration: 30, Epoch: 5, Loss: 0.74480, Batch_BER: 0.28600\n",
      "Iteration: 40, Epoch: 5, Loss: 0.74288, Batch_BER: 0.32800\n",
      "Iteration: 50, Epoch: 5, Loss: 0.74158, Batch_BER: 0.30400\n",
      "Iteration: 60, Epoch: 5, Loss: 0.73682, Batch_BER: 0.29800\n",
      "Iteration: 70, Epoch: 5, Loss: 0.73538, Batch_BER: 0.28000\n",
      "Iteration: 80, Epoch: 5, Loss: 0.73796, Batch_BER: 0.31000\n",
      "Iteration: 90, Epoch: 5, Loss: 0.73851, Batch_BER: 0.31400\n",
      "Iteration: 100, Epoch: 5, Loss: 0.73666, Batch_BER: 0.31600\n",
      "Iteration: 110, Epoch: 5, Loss: 0.73777, Batch_BER: 0.31800\n",
      "Iteration: 120, Epoch: 5, Loss: 0.73835, Batch_BER: 0.32400\n",
      "Iteration: 130, Epoch: 5, Loss: 0.73919, Batch_BER: 0.30000\n",
      "Iteration: 140, Epoch: 5, Loss: 0.74023, Batch_BER: 0.32000\n",
      "Iteration: 150, Epoch: 5, Loss: 0.74019, Batch_BER: 0.32000\n",
      "Iteration: 160, Epoch: 5, Loss: 0.74098, Batch_BER: 0.32000\n",
      "Iteration: 170, Epoch: 5, Loss: 0.74075, Batch_BER: 0.30400\n",
      "Iteration: 180, Epoch: 5, Loss: 0.74144, Batch_BER: 0.31200\n",
      "Iteration: 190, Epoch: 5, Loss: 0.74288, Batch_BER: 0.31800\n",
      "Iteration: 200, Epoch: 5, Loss: 0.74222, Batch_BER: 0.33800\n",
      "Iteration: 210, Epoch: 5, Loss: 0.74248, Batch_BER: 0.28600\n",
      "Iteration: 220, Epoch: 5, Loss: 0.74295, Batch_BER: 0.32600\n",
      "Iteration: 230, Epoch: 5, Loss: 0.74241, Batch_BER: 0.31600\n",
      "Iteration: 240, Epoch: 5, Loss: 0.74173, Batch_BER: 0.27800\n",
      "Iteration: 250, Epoch: 5, Loss: 0.74133, Batch_BER: 0.32400\n",
      "Iteration: 260, Epoch: 5, Loss: 0.74100, Batch_BER: 0.28600\n",
      "Iteration: 270, Epoch: 5, Loss: 0.74099, Batch_BER: 0.31800\n",
      "Iteration: 280, Epoch: 5, Loss: 0.74128, Batch_BER: 0.30800\n",
      "Iteration: 290, Epoch: 5, Loss: 0.74199, Batch_BER: 0.30800\n",
      "Iteration: 300, Epoch: 5, Loss: 0.74136, Batch_BER: 0.27400\n",
      "Iteration: 310, Epoch: 5, Loss: 0.74188, Batch_BER: 0.33200\n",
      "Iteration: 320, Epoch: 5, Loss: 0.74191, Batch_BER: 0.29000\n",
      "Iteration: 330, Epoch: 5, Loss: 0.74245, Batch_BER: 0.33400\n",
      "Iteration: 340, Epoch: 5, Loss: 0.74263, Batch_BER: 0.26800\n",
      "Iteration: 350, Epoch: 5, Loss: 0.74228, Batch_BER: 0.26200\n",
      "Iteration: 360, Epoch: 5, Loss: 0.74133, Batch_BER: 0.30000\n",
      "Iteration: 370, Epoch: 5, Loss: 0.74108, Batch_BER: 0.27400\n",
      "Iteration: 380, Epoch: 5, Loss: 0.74124, Batch_BER: 0.28000\n",
      "Iteration: 390, Epoch: 5, Loss: 0.74173, Batch_BER: 0.35400\n",
      "Iteration: 400, Epoch: 5, Loss: 0.74101, Batch_BER: 0.29800\n",
      "Interim result for Epoch: 5, Loss: 0.74101, Batch_BER: 0.29800\n"
     ]
    }
   ],
   "source": [
    "train_mi(n_epochs=1, n_steps=500, batch_size=128)\n",
    "train_encoder(n_epochs=5, n_steps=400, batch_size=500, learning_rate=0.005)\n",
    "test_encoding(M, 1)\n",
    "train_encoder(n_epochs=5, n_steps=400, batch_size=500, learning_rate=0.0005)\n",
    "test_encoding(M, 1)\n",
    "train_decoder(n_epochs=5, n_steps=400, batch_size=500, learning_rate=0.005, plot_encoding=False)"
   ]
  },
  {
   "cell_type": "code",
   "execution_count": 20,
   "metadata": {},
   "outputs": [
    {
     "name": "stdout",
     "output_type": "stream",
     "text": [
      "Progress: 6 of 30 parts\n",
      "Progress: 12 of 30 parts\n",
      "Progress: 18 of 30 parts\n",
      "Progress: 24 of 30 parts\n",
      "Progress: 30 of 30 parts\n"
     ]
    }
   ],
   "source": [
    "bber_data = Test_AE(test_msg)"
   ]
  },
  {
   "cell_type": "code",
   "execution_count": 21,
   "metadata": {},
   "outputs": [
    {
     "data": {
      "image/png": "[encoded data removed]",
      "text/plain": [
       "<Figure size 576x360 with 1 Axes>"
      ]
     },
     "metadata": {
      "needs_background": "light"
     },
     "output_type": "display_data"
    }
   ],
   "source": [
    "# Approximate 16 QAM Error\n",
    "def SIXT_QAM_sim(ebno):\n",
    "    return (3.0/2)*special.erfc(np.sqrt((4.0/10)*10.**(ebno/10)))\n",
    "\n",
    "ebnodbs = np.linspace(0,15,16)\n",
    "fig = plt.figure(figsize=(8, 5))\n",
    "plt.semilogy(bber_data[0], bber_data[1], 'o-')\n",
    "\n",
    "plt.semilogy(ebnodbs, SIXT_QAM_sim(ebnodbs), '^-');\n",
    "plt.gca().set_ylim(1e-5, 1)\n",
    "plt.gca().set_xlim(0, 15)\n",
    "plt.ylabel(\"Batch Symbol Error Rate\", fontsize=14, rotation=90)\n",
    "plt.xlabel(\"SNR [dB]\", fontsize=18)\n",
    "plt.legend(['AE with MINE', '16QAM'],\n",
    "           prop={'size': 14}, loc='upper right');\n",
    "plt.grid(True, which=\"both\")"
   ]
  }
 ],
 "metadata": {
  "kernelspec": {
   "display_name": "Python 3",
   "language": "python",
   "name": "python3"
  },
  "language_info": {
   "codemirror_mode": {
    "name": "ipython",
    "version": 3
   },
   "file_extension": ".py",
   "mimetype": "text/x-python",
   "name": "python",
   "nbconvert_exporter": "python",
   "pygments_lexer": "ipython3",
   "version": "3.6.10"
  }
 },
 "nbformat": 4,
 "nbformat_minor": 2
}
