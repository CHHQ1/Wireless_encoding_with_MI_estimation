{
 "cells": [
  {
   "cell_type": "code",
   "execution_count": 1,
   "metadata": {},
   "outputs": [],
   "source": [
    "import sys\n",
    "assert sys.version_info >= (3, 5)\n",
    "import numpy as np\n",
    "%matplotlib inline\n",
    "import matplotlib as mpl\n",
    "import matplotlib.pyplot as plt\n",
    "mpl.rc('axes', labelsize=14)\n",
    "mpl.rc('xtick', labelsize=12)\n",
    "mpl.rc('ytick', labelsize=12)\n",
    "import tensorflow as tf\n",
    "from tensorflow import keras\n",
    "import pandas as pd\n",
    "from scipy import special\n",
    "from tensorflow.keras import layers\n",
    "np.random.seed(42)\n",
    "tf.random.set_seed(42)"
   ]
  },
  {
   "cell_type": "code",
   "execution_count": 2,
   "metadata": {},
   "outputs": [],
   "source": [
    "M = 16\n",
    "k = int(np.log2(M))\n",
    "n = 1\n",
    "TRAINING_SNR = 7"
   ]
  },
  {
   "cell_type": "code",
   "execution_count": 3,
   "metadata": {},
   "outputs": [],
   "source": [
    "def EbNo_to_noise(ebnodb):\n",
    "    '''Transform EbNo[dB]/snr to noise power'''\n",
    "    ebno = 10**(ebnodb/10)\n",
    "    noise_std = 1/np.sqrt(2*(k/n)*ebno) \n",
    "    return noise_std\n",
    "\n",
    "def SNR_to_noise(snrdb):\n",
    "    '''Transform EbNo[dB]/snr to noise power'''\n",
    "    snr = 10**(snrdb/10)\n",
    "    noise_std = 1/np.sqrt(2*snr)\n",
    "    return noise_std"
   ]
  },
  {
   "cell_type": "code",
   "execution_count": 4,
   "metadata": {},
   "outputs": [],
   "source": [
    "randN_05 = keras.initializers.RandomNormal(mean=0.0, stddev=0.05, seed=None)\n",
    "bias_init = keras.initializers.Constant(0.01)\n",
    "\n",
    "input_A = keras.layers.Input(shape=[4*n])\n",
    "input_B = keras.layers.Input(shape=[4*n])\n",
    "    \n",
    "transform = keras.models.Sequential([\n",
    "layers.Dense(256, bias_initializer=bias_init, kernel_initializer=randN_05, activation=\"relu\"),\n",
    "#keras.layers.Dropout(rate=0.3), # To regularize higher dimensionality\n",
    "layers.Dense(256, bias_initializer=bias_init, kernel_initializer=randN_05, activation=\"relu\"),\n",
    "#keras.layers.Dropout(rate=0.3), # To regularize higher dimensionality\n",
    "layers.Dense(1, bias_initializer=bias_init, kernel_initializer=randN_05, activation=None)])\n",
    "\n",
    "output_A = transform(input_A)\n",
    "output_B = transform(input_B)\n",
    "output_C = tf.reduce_mean(output_A) - tf.math.log(tf.reduce_mean(tf.exp(output_B))) # MINE\n",
    "MI_mod = keras.models.Model(inputs=[input_A, input_B], outputs=output_C)"
   ]
  },
  {
   "cell_type": "code",
   "execution_count": 5,
   "metadata": {},
   "outputs": [],
   "source": [
    "noise_std = EbNo_to_noise(TRAINING_SNR)\n",
    "# custom functions / layers without weights\n",
    "norm_layer = keras.layers.Lambda(lambda x: tf.divide(x,tf.sqrt(2*tf.reduce_mean(tf.square(x)))))\n",
    "shape_layer = keras.layers.Lambda(lambda x: tf.reshape(x, shape=[-1,2,n]))\n",
    "shape_layer2 = keras.layers.Lambda(lambda x: tf.reshape(x, shape=[-1,2*n]))\n",
    "channel_layer = keras.layers.Lambda(lambda x: \n",
    "                    x + tf.random.normal(tf.shape(x), mean=0.0, stddev=noise_std))\n",
    "\n",
    "encoder = keras.models.Sequential([\n",
    "            keras.layers.Embedding(M, M, embeddings_initializer='glorot_normal'),\n",
    "            keras.layers.Dense(M, activation=\"elu\"),\n",
    "            keras.layers.Dense(2*n, activation=None),\n",
    "            shape_layer,\n",
    "            norm_layer])\n",
    "\n",
    "channel = keras.models.Sequential([channel_layer])\n",
    "\n",
    "decoder = keras.models.Sequential([\n",
    "                keras.layers.InputLayer(input_shape=[2,n]),\n",
    "                shape_layer2,\n",
    "                keras.layers.Dense(M, activation=\"elu\"),\n",
    "                keras.layers.Dense(M, activation=\"softmax\")\n",
    "                ])\n",
    "\n",
    "# autoencoder = keras.models.Sequential([encoder, channel, decoder])"
   ]
  },
  {
   "cell_type": "code",
   "execution_count": 6,
   "metadata": {},
   "outputs": [],
   "source": [
    "def B_Ber_m(input_msg, msg):\n",
    "    '''Calculate the Batch Bit Error Rate'''\n",
    "    pred_error = tf.not_equal(input_msg, tf.argmax(msg, 1))      \n",
    "    bber = tf.reduce_mean(tf.cast(pred_error, tf.float32))\n",
    "    return bber"
   ]
  },
  {
   "cell_type": "code",
   "execution_count": 7,
   "metadata": {},
   "outputs": [],
   "source": [
    "def random_sample(batch_size=32):\n",
    "    msg = np.random.randint(M, size=batch_size)\n",
    "    return msg"
   ]
  },
  {
   "cell_type": "code",
   "execution_count": 8,
   "metadata": {},
   "outputs": [],
   "source": [
    "def test_encoding(M=16, n=1):\n",
    "    inp = np.arange(0,M)\n",
    "    coding = encoder.predict(inp)\n",
    "    fig = plt.figure(figsize=(4,4))\n",
    "    plt.plot(coding[:,0], coding[:, 1], \"b.\")\n",
    "    plt.xlabel(\"$x_1$\", fontsize=18)\n",
    "    plt.ylabel(\"$x_2$\", fontsize=18, rotation=0)\n",
    "    plt.grid(True)\n",
    "    plt.gca().set_ylim(-2, 2)\n",
    "    plt.gca().set_xlim(-2, 2)\n",
    "    plt.show()"
   ]
  },
  {
   "cell_type": "code",
   "execution_count": 9,
   "metadata": {},
   "outputs": [],
   "source": [
    "def test_noisy_codeword(data):\n",
    "    rcvd_word = data[1:2000]\n",
    "    fig = plt.figure(figsize=(4,4))\n",
    "    plt.plot(rcvd_word[:,0], rcvd_word[:, 1], \"b.\")\n",
    "    plt.xlabel(\"$x_1$\", fontsize=18)\n",
    "    plt.ylabel(\"$x_2$\", fontsize=18, rotation=0)\n",
    "    plt.grid(True)\n",
    "    plt.gca().set_ylim(-2, 2)\n",
    "    plt.gca().set_xlim(-2, 2)\n",
    "    plt.show()"
   ]
  },
  {
   "cell_type": "code",
   "execution_count": 10,
   "metadata": {},
   "outputs": [],
   "source": [
    "loss_fn = keras.losses.SparseCategoricalCrossentropy()\n",
    "mean_loss = keras.metrics.Mean()"
   ]
  },
  {
   "cell_type": "code",
   "execution_count": 11,
   "metadata": {},
   "outputs": [],
   "source": [
    "def plot_loss(step, epoch, mean_loss, X_batch, y_pred, plot_encoding):\n",
    "    template = 'Iteration: {}, Epoch: {}, Loss: {:.5f}, Batch_BER: {:.5f}'\n",
    "    if step % 10 == 0:\n",
    "        print(template.format(step, epoch, mean_loss.result(), B_Ber_m(X_batch, y_pred)))\n",
    "        if plot_encoding:\n",
    "            test_encoding()"
   ]
  },
  {
   "cell_type": "code",
   "execution_count": 12,
   "metadata": {},
   "outputs": [],
   "source": [
    "def plot_batch_loss(epoch, mean_loss, X_batch, y_pred):\n",
    "        template_outer_loop = 'Interim result for Epoch: {}, Loss: {:.5f}, Batch_BER: {:.5f}'\n",
    "        print(template_outer_loop.format(epoch, mean_loss.result(), B_Ber_m(X_batch, y_pred)))"
   ]
  },
  {
   "cell_type": "code",
   "execution_count": 13,
   "metadata": {},
   "outputs": [],
   "source": [
    "def split_train_data(x_sample, y_sample):\n",
    "    x_shaped = tf.reshape(x_sample, shape=[-1,2*n])\n",
    "    y_shaped = tf.reshape(y_sample, shape=[-1,2*n])\n",
    "    x_sample1, x_sample2 = tf.split(x_shaped, num_or_size_splits=2)\n",
    "    y_sample1, y_sample2 = tf.split(y_shaped, num_or_size_splits=2)\n",
    "    joint_sample = tf.concat([x_sample1, y_sample1], axis=1)\n",
    "    marg_sample = tf.concat([x_sample2, y_sample1], axis=1)\n",
    "    return joint_sample, marg_sample"
   ]
  },
  {
   "cell_type": "code",
   "execution_count": 14,
   "metadata": {},
   "outputs": [],
   "source": [
    "def train_mi(n_epochs=5, n_steps=20, batch_size=200, learning_rate=0.005):\n",
    "    optimizer_mi = keras.optimizers.Nadam(lr=learning_rate)\n",
    "    for epoch in range(1, n_epochs + 1): \n",
    "        print(\"Training in Epoch {}/{}\".format(epoch, n_epochs)) \n",
    "        for step in range(1, n_steps + 1):\n",
    "            X_batch = random_sample(batch_size*2)\n",
    "            with tf.GradientTape() as tape:\n",
    "                x_enc = encoder(X_batch, training=True)\n",
    "                y_recv = tf.grad_pass_through(channel)(x_enc)\n",
    "                joint_marg_s = split_train_data(x_enc, y_recv)\n",
    "                loss = -MI_mod(joint_marg_s)\n",
    "                gradients = tape.gradient(loss, MI_mod.trainable_variables) \n",
    "                optimizer_mi.apply_gradients(zip(gradients, MI_mod.trainable_variables))\n",
    "            mi_avg = -mean_loss(loss)\n",
    "        print('Epoch: {}, Mi is {}'.format(epoch, mi_avg))\n",
    "        mean_loss.reset_states()"
   ]
  },
  {
   "cell_type": "code",
   "execution_count": 15,
   "metadata": {},
   "outputs": [],
   "source": [
    "def train_decoder(n_epochs=5, n_steps=20, batch_size=200, learning_rate=0.005, plot_encoding=True):\n",
    "    optimizer_ae = keras.optimizers.Nadam(lr=learning_rate)\n",
    "    for epoch in range(1, n_epochs + 1): \n",
    "        print(\"Training Bob in Epoch {}/{}\".format(epoch, n_epochs)) \n",
    "        for step in range(1, n_steps + 1):\n",
    "            X_batch  = random_sample(batch_size)\n",
    "            with tf.GradientTape() as tape:\n",
    "                x_enc = encoder(X_batch, training=False)\n",
    "                y_recv = tf.grad_pass_through(channel)(x_enc)\n",
    "                y_pred = decoder(y_recv, training=True)\n",
    "                loss = tf.reduce_mean(loss_fn(X_batch, y_pred))\n",
    "                gradients = tape.gradient(loss, decoder.trainable_variables) \n",
    "                optimizer_ae.apply_gradients(zip(gradients, decoder.trainable_variables)) \n",
    "            mean_loss(loss)\n",
    "            plot_loss(step, epoch, mean_loss, X_batch, y_pred, plot_encoding)\n",
    "        plot_batch_loss(epoch, mean_loss, X_batch, y_pred) \n",
    "        mean_loss.reset_states()"
   ]
  },
  {
   "cell_type": "code",
   "execution_count": 16,
   "metadata": {},
   "outputs": [],
   "source": [
    "def train_encoder(n_epochs=5, n_steps=20, batch_size=200, learning_rate=0.05):\n",
    "    optimizer_mi = keras.optimizers.Nadam(lr=0.005)\n",
    "    optimizer_ae = keras.optimizers.Nadam(lr=learning_rate)\n",
    "    for epoch in range(1, n_epochs + 1): \n",
    "        print(\"Training Bob in Epoch {}/{}\".format(epoch, n_epochs)) \n",
    "        for step in range(1, n_steps + 1):\n",
    "            X_batch  = random_sample(batch_size)\n",
    "            with tf.GradientTape() as tape:\n",
    "                x_enc = encoder(X_batch, training=True)\n",
    "                y_recv = tf.grad_pass_through(channel)(x_enc)\n",
    "                joint_marg_s = split_train_data(x_enc, y_recv)\n",
    "                loss = -MI_mod(joint_marg_s)\n",
    "                gradients = tape.gradient(loss, encoder.trainable_variables) \n",
    "                optimizer_ae.apply_gradients(zip(gradients, encoder.trainable_variables))\n",
    "            mi_avg = -mean_loss(loss)\n",
    "        with tf.GradientTape() as tape:\n",
    "            X_batch  = random_sample(batch_size) \n",
    "            x_enc = encoder(X_batch, training=True)\n",
    "            y_recv = tf.grad_pass_through(channel)(x_enc)\n",
    "            joint_marg_s = split_train_data(x_enc, y_recv)\n",
    "            loss = -MI_mod(joint_marg_s)\n",
    "            gradients = tape.gradient(loss, MI_mod.trainable_variables) \n",
    "            optimizer_mi.apply_gradients(zip(gradients, MI_mod.trainable_variables))\n",
    "        print('Epoch: {}, Mi is {}'.format(epoch, mi_avg))\n",
    "       # test_encoding(M, 1)"
   ]
  },
  {
   "cell_type": "code",
   "execution_count": 17,
   "metadata": {},
   "outputs": [],
   "source": [
    "# test msg sequence for normal encoding\n",
    "N_test = 500000\n",
    "test_msg = np.random.randint(M, size=N_test)"
   ]
  },
  {
   "cell_type": "code",
   "execution_count": 18,
   "metadata": {},
   "outputs": [],
   "source": [
    "def Test_AE(data):\n",
    "    '''Calculate Bit Error for varying SNRs'''\n",
    "    snr_range = np.linspace(0, 15, 31)\n",
    "    bber_vec = [None] * len(snr_range)\n",
    "        \n",
    "    for db in range(len(snr_range)):           \n",
    "        noise_std = EbNo_to_noise(snr_range[db])\n",
    "        code_word = encoder(data)\n",
    "        rcvd_word = code_word + tf.random.normal(tf.shape(code_word), mean=0.0, stddev=noise_std)\n",
    "        dcoded_msg = decoder(rcvd_word)\n",
    "        bber_vec[db] = B_Ber_m(data, dcoded_msg)\n",
    "        if (db % 6 == 0) & (db > 0):\n",
    "            print(f'Progress: {db} of {30} parts')\n",
    "\n",
    "    return (snr_range, bber_vec)"
   ]
  },
  {
   "cell_type": "code",
   "execution_count": 19,
   "metadata": {},
   "outputs": [
    {
     "name": "stdout",
     "output_type": "stream",
     "text": [
      "Training in Epoch 1/1\n",
      "Epoch: 1, Mi is 1.947577953338623\n",
      "Training Bob in Epoch 1/5\n",
      "Epoch: 1, Mi is 2.446141481399536\n",
      "Training Bob in Epoch 2/5\n",
      "Epoch: 2, Mi is 2.4626708030700684\n",
      "Training Bob in Epoch 3/5\n",
      "Epoch: 3, Mi is 2.4642937183380127\n",
      "Training Bob in Epoch 4/5\n",
      "Epoch: 4, Mi is 2.4681992530822754\n",
      "Training Bob in Epoch 5/5\n",
      "Epoch: 5, Mi is 2.4727344512939453\n"
     ]
    },
    {
     "data": {
      "image/png": "[encoded data removed]",
      "text/plain": [
       "<Figure size 288x288 with 1 Axes>"
      ]
     },
     "metadata": {
      "needs_background": "light"
     },
     "output_type": "display_data"
    },
    {
     "name": "stdout",
     "output_type": "stream",
     "text": [
      "Training Bob in Epoch 1/5\n",
      "Epoch: 1, Mi is 2.480365514755249\n",
      "Training Bob in Epoch 2/5\n",
      "Epoch: 2, Mi is 2.486384868621826\n",
      "Training Bob in Epoch 3/5\n",
      "Epoch: 3, Mi is 2.4889731407165527\n",
      "Training Bob in Epoch 4/5\n",
      "Epoch: 4, Mi is 2.497097969055176\n",
      "Training Bob in Epoch 5/5\n",
      "Epoch: 5, Mi is 2.5041916370391846\n"
     ]
    },
    {
     "data": {
      "image/png": "[encoded data removed]",
      "text/plain": [
       "<Figure size 288x288 with 1 Axes>"
      ]
     },
     "metadata": {
      "needs_background": "light"
     },
     "output_type": "display_data"
    },
    {
     "name": "stdout",
     "output_type": "stream",
     "text": [
      "Training Bob in Epoch 1/5\n",
      "Iteration: 10, Epoch: 1, Loss: -2.49087, Batch_BER: 0.93800\n",
      "Iteration: 20, Epoch: 1, Loss: -2.47812, Batch_BER: 0.88200\n",
      "Iteration: 30, Epoch: 1, Loss: -2.46593, Batch_BER: 0.77400\n",
      "Iteration: 40, Epoch: 1, Loss: -2.45430, Batch_BER: 0.73600\n",
      "Iteration: 50, Epoch: 1, Loss: -2.44317, Batch_BER: 0.67800\n",
      "Iteration: 60, Epoch: 1, Loss: -2.43252, Batch_BER: 0.57800\n",
      "Iteration: 70, Epoch: 1, Loss: -2.42228, Batch_BER: 0.54000\n",
      "Iteration: 80, Epoch: 1, Loss: -2.41241, Batch_BER: 0.45200\n",
      "Iteration: 90, Epoch: 1, Loss: -2.40285, Batch_BER: 0.37000\n",
      "Iteration: 100, Epoch: 1, Loss: -2.39359, Batch_BER: 0.33000\n",
      "Iteration: 110, Epoch: 1, Loss: -2.38459, Batch_BER: 0.27600\n",
      "Iteration: 120, Epoch: 1, Loss: -2.37584, Batch_BER: 0.25000\n",
      "Iteration: 130, Epoch: 1, Loss: -2.36732, Batch_BER: 0.21000\n",
      "Iteration: 140, Epoch: 1, Loss: -2.35902, Batch_BER: 0.17000\n",
      "Iteration: 150, Epoch: 1, Loss: -2.35092, Batch_BER: 0.17000\n",
      "Iteration: 160, Epoch: 1, Loss: -2.34301, Batch_BER: 0.11600\n",
      "Iteration: 170, Epoch: 1, Loss: -2.33527, Batch_BER: 0.11000\n",
      "Iteration: 180, Epoch: 1, Loss: -2.32769, Batch_BER: 0.08600\n",
      "Iteration: 190, Epoch: 1, Loss: -2.32027, Batch_BER: 0.08800\n",
      "Iteration: 200, Epoch: 1, Loss: -2.31298, Batch_BER: 0.09200\n",
      "Iteration: 210, Epoch: 1, Loss: -2.30583, Batch_BER: 0.09400\n",
      "Iteration: 220, Epoch: 1, Loss: -2.29880, Batch_BER: 0.09400\n",
      "Iteration: 230, Epoch: 1, Loss: -2.29188, Batch_BER: 0.06800\n",
      "Iteration: 240, Epoch: 1, Loss: -2.28509, Batch_BER: 0.07400\n",
      "Iteration: 250, Epoch: 1, Loss: -2.27839, Batch_BER: 0.08600\n",
      "Iteration: 260, Epoch: 1, Loss: -2.27177, Batch_BER: 0.07400\n",
      "Iteration: 270, Epoch: 1, Loss: -2.26524, Batch_BER: 0.07000\n",
      "Iteration: 280, Epoch: 1, Loss: -2.25880, Batch_BER: 0.06600\n",
      "Iteration: 290, Epoch: 1, Loss: -2.25242, Batch_BER: 0.08600\n",
      "Iteration: 300, Epoch: 1, Loss: -2.24612, Batch_BER: 0.07200\n",
      "Iteration: 310, Epoch: 1, Loss: -2.23990, Batch_BER: 0.07200\n",
      "Iteration: 320, Epoch: 1, Loss: -2.23374, Batch_BER: 0.07200\n",
      "Iteration: 330, Epoch: 1, Loss: -2.22765, Batch_BER: 0.03600\n",
      "Iteration: 340, Epoch: 1, Loss: -2.22162, Batch_BER: 0.05600\n",
      "Iteration: 350, Epoch: 1, Loss: -2.21565, Batch_BER: 0.07400\n",
      "Iteration: 360, Epoch: 1, Loss: -2.20971, Batch_BER: 0.07800\n",
      "Iteration: 370, Epoch: 1, Loss: -2.20385, Batch_BER: 0.07200\n",
      "Iteration: 380, Epoch: 1, Loss: -2.19803, Batch_BER: 0.06600\n",
      "Iteration: 390, Epoch: 1, Loss: -2.19225, Batch_BER: 0.07200\n",
      "Iteration: 400, Epoch: 1, Loss: -2.18652, Batch_BER: 0.06600\n",
      "Interim result for Epoch: 1, Loss: -2.18652, Batch_BER: 0.06600\n",
      "Training Bob in Epoch 2/5\n",
      "Iteration: 10, Epoch: 2, Loss: 0.31902, Batch_BER: 0.06400\n",
      "Iteration: 20, Epoch: 2, Loss: 0.31540, Batch_BER: 0.06400\n",
      "Iteration: 30, Epoch: 2, Loss: 0.31051, Batch_BER: 0.07200\n",
      "Iteration: 40, Epoch: 2, Loss: 0.31161, Batch_BER: 0.09000\n",
      "Iteration: 50, Epoch: 2, Loss: 0.30717, Batch_BER: 0.07200\n",
      "Iteration: 60, Epoch: 2, Loss: 0.30242, Batch_BER: 0.05200\n",
      "Iteration: 70, Epoch: 2, Loss: 0.29966, Batch_BER: 0.08400\n",
      "Iteration: 80, Epoch: 2, Loss: 0.29658, Batch_BER: 0.06800\n",
      "Iteration: 90, Epoch: 2, Loss: 0.29428, Batch_BER: 0.06200\n",
      "Iteration: 100, Epoch: 2, Loss: 0.29238, Batch_BER: 0.07200\n",
      "Iteration: 110, Epoch: 2, Loss: 0.28927, Batch_BER: 0.06800\n",
      "Iteration: 120, Epoch: 2, Loss: 0.28611, Batch_BER: 0.07600\n",
      "Iteration: 130, Epoch: 2, Loss: 0.28364, Batch_BER: 0.06600\n",
      "Iteration: 140, Epoch: 2, Loss: 0.28127, Batch_BER: 0.06000\n",
      "Iteration: 150, Epoch: 2, Loss: 0.27925, Batch_BER: 0.06400\n",
      "Iteration: 160, Epoch: 2, Loss: 0.27678, Batch_BER: 0.05600\n",
      "Iteration: 170, Epoch: 2, Loss: 0.27495, Batch_BER: 0.07000\n",
      "Iteration: 180, Epoch: 2, Loss: 0.27236, Batch_BER: 0.07800\n",
      "Iteration: 190, Epoch: 2, Loss: 0.27033, Batch_BER: 0.06400\n",
      "Iteration: 200, Epoch: 2, Loss: 0.26821, Batch_BER: 0.06200\n",
      "Iteration: 210, Epoch: 2, Loss: 0.26642, Batch_BER: 0.07600\n",
      "Iteration: 220, Epoch: 2, Loss: 0.26490, Batch_BER: 0.08600\n",
      "Iteration: 230, Epoch: 2, Loss: 0.26329, Batch_BER: 0.07400\n",
      "Iteration: 240, Epoch: 2, Loss: 0.26120, Batch_BER: 0.06000\n",
      "Iteration: 250, Epoch: 2, Loss: 0.26001, Batch_BER: 0.08800\n",
      "Iteration: 260, Epoch: 2, Loss: 0.25854, Batch_BER: 0.06400\n",
      "Iteration: 270, Epoch: 2, Loss: 0.25662, Batch_BER: 0.06600\n",
      "Iteration: 280, Epoch: 2, Loss: 0.25530, Batch_BER: 0.05000\n",
      "Iteration: 290, Epoch: 2, Loss: 0.25457, Batch_BER: 0.07800\n",
      "Iteration: 300, Epoch: 2, Loss: 0.25326, Batch_BER: 0.07200\n",
      "Iteration: 310, Epoch: 2, Loss: 0.25195, Batch_BER: 0.07400\n",
      "Iteration: 320, Epoch: 2, Loss: 0.25061, Batch_BER: 0.06200\n",
      "Iteration: 330, Epoch: 2, Loss: 0.24949, Batch_BER: 0.06600\n",
      "Iteration: 340, Epoch: 2, Loss: 0.24818, Batch_BER: 0.06800\n",
      "Iteration: 350, Epoch: 2, Loss: 0.24709, Batch_BER: 0.07000\n",
      "Iteration: 360, Epoch: 2, Loss: 0.24587, Batch_BER: 0.07400\n",
      "Iteration: 370, Epoch: 2, Loss: 0.24502, Batch_BER: 0.09000\n",
      "Iteration: 380, Epoch: 2, Loss: 0.24387, Batch_BER: 0.05400\n",
      "Iteration: 390, Epoch: 2, Loss: 0.24290, Batch_BER: 0.04600\n",
      "Iteration: 400, Epoch: 2, Loss: 0.24204, Batch_BER: 0.08600\n",
      "Interim result for Epoch: 2, Loss: 0.24204, Batch_BER: 0.08600\n",
      "Training Bob in Epoch 3/5\n",
      "Iteration: 10, Epoch: 3, Loss: 0.19795, Batch_BER: 0.06200\n",
      "Iteration: 20, Epoch: 3, Loss: 0.20110, Batch_BER: 0.06600\n",
      "Iteration: 30, Epoch: 3, Loss: 0.20031, Batch_BER: 0.05600\n",
      "Iteration: 40, Epoch: 3, Loss: 0.19944, Batch_BER: 0.04000\n",
      "Iteration: 50, Epoch: 3, Loss: 0.20044, Batch_BER: 0.05200\n",
      "Iteration: 60, Epoch: 3, Loss: 0.19938, Batch_BER: 0.05200\n",
      "Iteration: 70, Epoch: 3, Loss: 0.19910, Batch_BER: 0.06400\n",
      "Iteration: 80, Epoch: 3, Loss: 0.19813, Batch_BER: 0.06400\n",
      "Iteration: 90, Epoch: 3, Loss: 0.19841, Batch_BER: 0.07600\n",
      "Iteration: 100, Epoch: 3, Loss: 0.19835, Batch_BER: 0.07200\n",
      "Iteration: 110, Epoch: 3, Loss: 0.19700, Batch_BER: 0.09200\n",
      "Iteration: 120, Epoch: 3, Loss: 0.19702, Batch_BER: 0.07400\n",
      "Iteration: 130, Epoch: 3, Loss: 0.19725, Batch_BER: 0.07200\n",
      "Iteration: 140, Epoch: 3, Loss: 0.19659, Batch_BER: 0.05000\n",
      "Iteration: 150, Epoch: 3, Loss: 0.19678, Batch_BER: 0.06600\n",
      "Iteration: 160, Epoch: 3, Loss: 0.19648, Batch_BER: 0.05800\n",
      "Iteration: 170, Epoch: 3, Loss: 0.19571, Batch_BER: 0.05400\n",
      "Iteration: 180, Epoch: 3, Loss: 0.19534, Batch_BER: 0.06400\n",
      "Iteration: 190, Epoch: 3, Loss: 0.19503, Batch_BER: 0.06800\n",
      "Iteration: 200, Epoch: 3, Loss: 0.19433, Batch_BER: 0.05600\n",
      "Iteration: 210, Epoch: 3, Loss: 0.19412, Batch_BER: 0.07200\n",
      "Iteration: 220, Epoch: 3, Loss: 0.19387, Batch_BER: 0.06400\n",
      "Iteration: 230, Epoch: 3, Loss: 0.19370, Batch_BER: 0.06800\n",
      "Iteration: 240, Epoch: 3, Loss: 0.19338, Batch_BER: 0.06000\n",
      "Iteration: 250, Epoch: 3, Loss: 0.19290, Batch_BER: 0.05200\n",
      "Iteration: 260, Epoch: 3, Loss: 0.19231, Batch_BER: 0.07400\n",
      "Iteration: 270, Epoch: 3, Loss: 0.19222, Batch_BER: 0.06400\n",
      "Iteration: 280, Epoch: 3, Loss: 0.19221, Batch_BER: 0.06600\n",
      "Iteration: 290, Epoch: 3, Loss: 0.19191, Batch_BER: 0.04800\n",
      "Iteration: 300, Epoch: 3, Loss: 0.19189, Batch_BER: 0.07000\n",
      "Iteration: 310, Epoch: 3, Loss: 0.19147, Batch_BER: 0.05600\n",
      "Iteration: 320, Epoch: 3, Loss: 0.19106, Batch_BER: 0.06400\n",
      "Iteration: 330, Epoch: 3, Loss: 0.19063, Batch_BER: 0.06600\n",
      "Iteration: 340, Epoch: 3, Loss: 0.19061, Batch_BER: 0.04600\n",
      "Iteration: 350, Epoch: 3, Loss: 0.19064, Batch_BER: 0.04400\n",
      "Iteration: 360, Epoch: 3, Loss: 0.19066, Batch_BER: 0.06400\n",
      "Iteration: 370, Epoch: 3, Loss: 0.19045, Batch_BER: 0.06200\n",
      "Iteration: 380, Epoch: 3, Loss: 0.18972, Batch_BER: 0.05200\n",
      "Iteration: 390, Epoch: 3, Loss: 0.18957, Batch_BER: 0.07600\n",
      "Iteration: 400, Epoch: 3, Loss: 0.18948, Batch_BER: 0.04800\n",
      "Interim result for Epoch: 3, Loss: 0.18948, Batch_BER: 0.04800\n",
      "Training Bob in Epoch 4/5\n",
      "Iteration: 10, Epoch: 4, Loss: 0.17752, Batch_BER: 0.05000\n",
      "Iteration: 20, Epoch: 4, Loss: 0.18592, Batch_BER: 0.08000\n",
      "Iteration: 30, Epoch: 4, Loss: 0.18368, Batch_BER: 0.06000\n",
      "Iteration: 40, Epoch: 4, Loss: 0.18037, Batch_BER: 0.05400\n",
      "Iteration: 50, Epoch: 4, Loss: 0.18146, Batch_BER: 0.04800\n",
      "Iteration: 60, Epoch: 4, Loss: 0.18146, Batch_BER: 0.05200\n",
      "Iteration: 70, Epoch: 4, Loss: 0.18014, Batch_BER: 0.04400\n",
      "Iteration: 80, Epoch: 4, Loss: 0.17829, Batch_BER: 0.05800\n",
      "Iteration: 90, Epoch: 4, Loss: 0.17836, Batch_BER: 0.05800\n",
      "Iteration: 100, Epoch: 4, Loss: 0.17774, Batch_BER: 0.05800\n",
      "Iteration: 110, Epoch: 4, Loss: 0.17851, Batch_BER: 0.06400\n",
      "Iteration: 120, Epoch: 4, Loss: 0.17886, Batch_BER: 0.06600\n"
     ]
    },
    {
     "name": "stdout",
     "output_type": "stream",
     "text": [
      "Iteration: 130, Epoch: 4, Loss: 0.17840, Batch_BER: 0.05400\n",
      "Iteration: 140, Epoch: 4, Loss: 0.17809, Batch_BER: 0.08200\n",
      "Iteration: 150, Epoch: 4, Loss: 0.17828, Batch_BER: 0.07000\n",
      "Iteration: 160, Epoch: 4, Loss: 0.17781, Batch_BER: 0.05200\n",
      "Iteration: 170, Epoch: 4, Loss: 0.17813, Batch_BER: 0.05200\n",
      "Iteration: 180, Epoch: 4, Loss: 0.17801, Batch_BER: 0.05600\n",
      "Iteration: 190, Epoch: 4, Loss: 0.17789, Batch_BER: 0.05800\n",
      "Iteration: 200, Epoch: 4, Loss: 0.17806, Batch_BER: 0.06000\n",
      "Iteration: 210, Epoch: 4, Loss: 0.17771, Batch_BER: 0.05400\n",
      "Iteration: 220, Epoch: 4, Loss: 0.17770, Batch_BER: 0.05400\n",
      "Iteration: 230, Epoch: 4, Loss: 0.17729, Batch_BER: 0.07400\n",
      "Iteration: 240, Epoch: 4, Loss: 0.17750, Batch_BER: 0.06800\n",
      "Iteration: 250, Epoch: 4, Loss: 0.17751, Batch_BER: 0.06400\n",
      "Iteration: 260, Epoch: 4, Loss: 0.17744, Batch_BER: 0.07800\n",
      "Iteration: 270, Epoch: 4, Loss: 0.17769, Batch_BER: 0.05600\n",
      "Iteration: 280, Epoch: 4, Loss: 0.17800, Batch_BER: 0.05800\n",
      "Iteration: 290, Epoch: 4, Loss: 0.17804, Batch_BER: 0.06400\n",
      "Iteration: 300, Epoch: 4, Loss: 0.17763, Batch_BER: 0.06400\n",
      "Iteration: 310, Epoch: 4, Loss: 0.17794, Batch_BER: 0.07800\n",
      "Iteration: 320, Epoch: 4, Loss: 0.17761, Batch_BER: 0.04800\n",
      "Iteration: 330, Epoch: 4, Loss: 0.17748, Batch_BER: 0.05000\n",
      "Iteration: 340, Epoch: 4, Loss: 0.17751, Batch_BER: 0.08200\n",
      "Iteration: 350, Epoch: 4, Loss: 0.17763, Batch_BER: 0.07400\n",
      "Iteration: 360, Epoch: 4, Loss: 0.17752, Batch_BER: 0.04200\n",
      "Iteration: 370, Epoch: 4, Loss: 0.17754, Batch_BER: 0.05200\n",
      "Iteration: 380, Epoch: 4, Loss: 0.17742, Batch_BER: 0.07200\n",
      "Iteration: 390, Epoch: 4, Loss: 0.17723, Batch_BER: 0.05200\n",
      "Iteration: 400, Epoch: 4, Loss: 0.17713, Batch_BER: 0.05800\n",
      "Interim result for Epoch: 4, Loss: 0.17713, Batch_BER: 0.05800\n",
      "Training Bob in Epoch 5/5\n",
      "Iteration: 10, Epoch: 5, Loss: 0.17339, Batch_BER: 0.05200\n",
      "Iteration: 20, Epoch: 5, Loss: 0.17713, Batch_BER: 0.07200\n",
      "Iteration: 30, Epoch: 5, Loss: 0.17633, Batch_BER: 0.07200\n",
      "Iteration: 40, Epoch: 5, Loss: 0.17357, Batch_BER: 0.05600\n",
      "Iteration: 50, Epoch: 5, Loss: 0.17458, Batch_BER: 0.06400\n",
      "Iteration: 60, Epoch: 5, Loss: 0.17445, Batch_BER: 0.07600\n",
      "Iteration: 70, Epoch: 5, Loss: 0.17531, Batch_BER: 0.07400\n",
      "Iteration: 80, Epoch: 5, Loss: 0.17549, Batch_BER: 0.06600\n",
      "Iteration: 90, Epoch: 5, Loss: 0.17657, Batch_BER: 0.06600\n",
      "Iteration: 100, Epoch: 5, Loss: 0.17553, Batch_BER: 0.03600\n",
      "Iteration: 110, Epoch: 5, Loss: 0.17599, Batch_BER: 0.06600\n",
      "Iteration: 120, Epoch: 5, Loss: 0.17550, Batch_BER: 0.06800\n",
      "Iteration: 130, Epoch: 5, Loss: 0.17509, Batch_BER: 0.06600\n",
      "Iteration: 140, Epoch: 5, Loss: 0.17561, Batch_BER: 0.07200\n",
      "Iteration: 150, Epoch: 5, Loss: 0.17502, Batch_BER: 0.05000\n",
      "Iteration: 160, Epoch: 5, Loss: 0.17554, Batch_BER: 0.07600\n",
      "Iteration: 170, Epoch: 5, Loss: 0.17556, Batch_BER: 0.06800\n",
      "Iteration: 180, Epoch: 5, Loss: 0.17578, Batch_BER: 0.05200\n",
      "Iteration: 190, Epoch: 5, Loss: 0.17598, Batch_BER: 0.07200\n",
      "Iteration: 200, Epoch: 5, Loss: 0.17522, Batch_BER: 0.06200\n",
      "Iteration: 210, Epoch: 5, Loss: 0.17531, Batch_BER: 0.08000\n",
      "Iteration: 220, Epoch: 5, Loss: 0.17524, Batch_BER: 0.06000\n",
      "Iteration: 230, Epoch: 5, Loss: 0.17515, Batch_BER: 0.04400\n",
      "Iteration: 240, Epoch: 5, Loss: 0.17521, Batch_BER: 0.06800\n",
      "Iteration: 250, Epoch: 5, Loss: 0.17472, Batch_BER: 0.06000\n",
      "Iteration: 260, Epoch: 5, Loss: 0.17460, Batch_BER: 0.07600\n",
      "Iteration: 270, Epoch: 5, Loss: 0.17486, Batch_BER: 0.05800\n",
      "Iteration: 280, Epoch: 5, Loss: 0.17452, Batch_BER: 0.05400\n",
      "Iteration: 290, Epoch: 5, Loss: 0.17446, Batch_BER: 0.07200\n",
      "Iteration: 300, Epoch: 5, Loss: 0.17409, Batch_BER: 0.06200\n",
      "Iteration: 310, Epoch: 5, Loss: 0.17421, Batch_BER: 0.09600\n",
      "Iteration: 320, Epoch: 5, Loss: 0.17408, Batch_BER: 0.06400\n",
      "Iteration: 330, Epoch: 5, Loss: 0.17415, Batch_BER: 0.05200\n",
      "Iteration: 340, Epoch: 5, Loss: 0.17443, Batch_BER: 0.05000\n",
      "Iteration: 350, Epoch: 5, Loss: 0.17438, Batch_BER: 0.05800\n",
      "Iteration: 360, Epoch: 5, Loss: 0.17390, Batch_BER: 0.05800\n",
      "Iteration: 370, Epoch: 5, Loss: 0.17377, Batch_BER: 0.06000\n",
      "Iteration: 380, Epoch: 5, Loss: 0.17374, Batch_BER: 0.06800\n",
      "Iteration: 390, Epoch: 5, Loss: 0.17394, Batch_BER: 0.07000\n",
      "Iteration: 400, Epoch: 5, Loss: 0.17380, Batch_BER: 0.05200\n",
      "Interim result for Epoch: 5, Loss: 0.17380, Batch_BER: 0.05200\n"
     ]
    }
   ],
   "source": [
    "train_mi(n_epochs=1, n_steps=500, batch_size=128)\n",
    "train_encoder(n_epochs=5, n_steps=400, batch_size=500, learning_rate=0.005)\n",
    "test_encoding(M, 1)\n",
    "train_encoder(n_epochs=5, n_steps=400, batch_size=500, learning_rate=0.0005)\n",
    "test_encoding(M, 1)\n",
    "train_decoder(n_epochs=5, n_steps=400, batch_size=500, learning_rate=0.005, plot_encoding=False)"
   ]
  },
  {
   "cell_type": "code",
   "execution_count": 20,
   "metadata": {},
   "outputs": [
    {
     "name": "stdout",
     "output_type": "stream",
     "text": [
      "Progress: 6 of 30 parts\n",
      "Progress: 12 of 30 parts\n",
      "Progress: 18 of 30 parts\n",
      "Progress: 24 of 30 parts\n",
      "Progress: 30 of 30 parts\n"
     ]
    }
   ],
   "source": [
    "bber_data = Test_AE(test_msg)"
   ]
  },
  {
   "cell_type": "code",
   "execution_count": 21,
   "metadata": {},
   "outputs": [
    {
     "data": {
      "image/png": "[encoded data removed]",
      "text/plain": [
       "<Figure size 576x360 with 1 Axes>"
      ]
     },
     "metadata": {
      "needs_background": "light"
     },
     "output_type": "display_data"
    }
   ],
   "source": [
    "# Approximate 16 QAM Error\n",
    "def SIXT_QAM_sim(ebno):\n",
    "    return (3.0/2)*special.erfc(np.sqrt((4.0/10)*10.**(ebno/10)))\n",
    "\n",
    "ebnodbs = np.linspace(0,15,16)\n",
    "fig = plt.figure(figsize=(8, 5))\n",
    "plt.semilogy(bber_data[0], bber_data[1], 'o-')\n",
    "\n",
    "plt.semilogy(ebnodbs, SIXT_QAM_sim(ebnodbs), '^-');\n",
    "plt.gca().set_ylim(1e-5, 1)\n",
    "plt.gca().set_xlim(0, 15)\n",
    "plt.ylabel(\"Batch Symbol Error Rate\", fontsize=14, rotation=90)\n",
    "plt.xlabel(\"SNR [dB]\", fontsize=18)\n",
    "plt.legend(['AE with MINE', '16QAM'],\n",
    "           prop={'size': 14}, loc='upper right');\n",
    "plt.grid(True, which=\"both\")"
   ]
  }
 ],
 "metadata": {
  "kernelspec": {
   "display_name": "Python 3",
   "language": "python",
   "name": "python3"
  },
  "language_info": {
   "codemirror_mode": {
    "name": "ipython",
    "version": 3
   },
   "file_extension": ".py",
   "mimetype": "text/x-python",
   "name": "python",
   "nbconvert_exporter": "python",
   "pygments_lexer": "ipython3",
   "version": "3.6.10"
  }
 },
 "nbformat": 4,
 "nbformat_minor": 2
}
