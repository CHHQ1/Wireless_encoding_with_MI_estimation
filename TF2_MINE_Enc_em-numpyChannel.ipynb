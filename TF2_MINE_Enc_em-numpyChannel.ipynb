{
 "cells": [
  {
   "cell_type": "code",
   "execution_count": 1,
   "metadata": {},
   "outputs": [],
   "source": [
    "import sys\n",
    "assert sys.version_info >= (3, 5)\n",
    "import numpy as np\n",
    "%matplotlib inline\n",
    "import matplotlib as mpl\n",
    "import matplotlib.pyplot as plt\n",
    "mpl.rc('axes', labelsize=14)\n",
    "mpl.rc('xtick', labelsize=12)\n",
    "mpl.rc('ytick', labelsize=12)\n",
    "import tensorflow as tf\n",
    "from tensorflow import keras\n",
    "import pandas as pd\n",
    "from scipy import special\n",
    "from tensorflow.keras import layers\n",
    "np.random.seed(42)\n",
    "tf.random.set_seed(42)"
   ]
  },
  {
   "cell_type": "code",
   "execution_count": 2,
   "metadata": {},
   "outputs": [],
   "source": [
    "M = 16\n",
    "k = int(np.log2(M))\n",
    "n = 1\n",
    "TRAINING_SNR = 7"
   ]
  },
  {
   "cell_type": "code",
   "execution_count": 3,
   "metadata": {},
   "outputs": [],
   "source": [
    "def EbNo_to_noise(ebnodb):\n",
    "    '''Transform EbNo[dB]/snr to noise power'''\n",
    "    ebno = 10**(ebnodb/10)\n",
    "    noise_std = 1/np.sqrt(2*(k/n)*ebno) \n",
    "    return noise_std\n",
    "\n",
    "def SNR_to_noise(snrdb):\n",
    "    '''Transform EbNo[dB]/snr to noise power'''\n",
    "    snr = 10**(snrdb/10)\n",
    "    noise_std = 1/np.sqrt(2*snr)\n",
    "    return noise_std"
   ]
  },
  {
   "cell_type": "code",
   "execution_count": 4,
   "metadata": {},
   "outputs": [],
   "source": [
    "randN_05 = keras.initializers.RandomNormal(mean=0.0, stddev=0.05, seed=None)\n",
    "bias_init = keras.initializers.Constant(0.01)\n",
    "\n",
    "input_A = keras.layers.Input(shape=[4*n])\n",
    "input_B = keras.layers.Input(shape=[4*n])\n",
    "    \n",
    "transform = keras.models.Sequential([\n",
    "layers.Dense(256, bias_initializer=bias_init, kernel_initializer=randN_05, activation=\"relu\"),\n",
    "#keras.layers.Dropout(rate=0.3), # To regularize higher dimensionality\n",
    "layers.Dense(256, bias_initializer=bias_init, kernel_initializer=randN_05, activation=\"relu\"),\n",
    "#keras.layers.Dropout(rate=0.3), # To regularize higher dimensionality\n",
    "layers.Dense(1, bias_initializer=bias_init, kernel_initializer=randN_05, activation=None)])\n",
    "\n",
    "output_A = transform(input_A)\n",
    "output_B = transform(input_B)\n",
    "output_C = tf.reduce_mean(output_A) - tf.math.log(tf.reduce_mean(tf.exp(output_B))) # MINE\n",
    "MI_mod = keras.models.Model(inputs=[input_A, input_B], outputs=output_C)"
   ]
  },
  {
   "cell_type": "code",
   "execution_count": 5,
   "metadata": {},
   "outputs": [],
   "source": [
    "noise_std = EbNo_to_noise(TRAINING_SNR)\n",
    "# custom functions / layers without weights\n",
    "norm_layer = keras.layers.Lambda(lambda x: tf.divide(x,tf.sqrt(2*tf.reduce_mean(tf.square(x)))))\n",
    "shape_layer = keras.layers.Lambda(lambda x: tf.reshape(x, shape=[-1,2,n]))\n",
    "shape_layer2 = keras.layers.Lambda(lambda x: tf.reshape(x, shape=[-1,2*n]))\n",
    "\n",
    "# numpy channel instead\n",
    "# channel_layer = keras.layers.Lambda(lambda x: \n",
    "#                     tf.stop_gradient(x + tf.random.normal(tf.shape(x), mean=0.0, stddev=noise_std)))\n",
    "\n",
    "encoder = keras.models.Sequential([\n",
    "            keras.layers.Embedding(M, M, embeddings_initializer='glorot_normal'),\n",
    "            keras.layers.Dense(M, activation=\"elu\"),\n",
    "            keras.layers.Dense(2*n, activation=None),\n",
    "            shape_layer,\n",
    "            norm_layer])\n",
    "\n",
    "# numpy channel instead\n",
    "# channel = keras.models.Sequential([channel_layer])\n",
    "\n",
    "decoder = keras.models.Sequential([\n",
    "                keras.layers.InputLayer(input_shape=[2,n]),\n",
    "                shape_layer2,\n",
    "                keras.layers.Dense(M, activation=\"elu\"),\n",
    "                keras.layers.Dense(M, activation=\"softmax\")\n",
    "                ])\n",
    "\n",
    "# numpy channel instead\n",
    "# autoencoder = keras.models.Sequential([encoder, channel, decoder])\n",
    "\n",
    "# numpy channel here :)\n",
    "def channel(x):\n",
    "    np_x = x.numpy()\n",
    "    np_x = np_x + np.random.normal(loc=0.0, scale=noise_std, size=np_x.shape)\n",
    "    return tf.convert_to_tensor(np_x, dtype=x.dtype)\n",
    "\n",
    "def autoencoder(x, training=False):\n",
    "    return decoder(channel(encoder(x, training=training)), training=training)"
   ]
  },
  {
   "cell_type": "code",
   "execution_count": 6,
   "metadata": {},
   "outputs": [],
   "source": [
    "def B_Ber_m(input_msg, msg):\n",
    "    '''Calculate the Batch Bit Error Rate'''\n",
    "    pred_error = tf.not_equal(input_msg, tf.argmax(msg, 1))      \n",
    "    bber = tf.reduce_mean(tf.cast(pred_error, tf.float32))\n",
    "    return bber"
   ]
  },
  {
   "cell_type": "code",
   "execution_count": 7,
   "metadata": {},
   "outputs": [],
   "source": [
    "def random_sample(batch_size=32):\n",
    "    msg = np.random.randint(M, size=batch_size)\n",
    "    return msg"
   ]
  },
  {
   "cell_type": "code",
   "execution_count": 8,
   "metadata": {},
   "outputs": [],
   "source": [
    "def test_encoding(M=16, n=1):\n",
    "    inp = np.arange(0,M)\n",
    "    coding = encoder.predict(inp)\n",
    "    fig = plt.figure(figsize=(4,4))\n",
    "    plt.plot(coding[:,0], coding[:, 1], \"b.\")\n",
    "    plt.xlabel(\"$x_1$\", fontsize=18)\n",
    "    plt.ylabel(\"$x_2$\", fontsize=18, rotation=0)\n",
    "    plt.grid(True)\n",
    "    plt.gca().set_ylim(-2, 2)\n",
    "    plt.gca().set_xlim(-2, 2)\n",
    "    plt.show()"
   ]
  },
  {
   "cell_type": "code",
   "execution_count": 9,
   "metadata": {},
   "outputs": [],
   "source": [
    "def test_noisy_codeword(data):\n",
    "    rcvd_word = data[1:2000]\n",
    "    fig = plt.figure(figsize=(4,4))\n",
    "    plt.plot(rcvd_word[:,0], rcvd_word[:, 1], \"b.\")\n",
    "    plt.xlabel(\"$x_1$\", fontsize=18)\n",
    "    plt.ylabel(\"$x_2$\", fontsize=18, rotation=0)\n",
    "    plt.grid(True)\n",
    "    plt.gca().set_ylim(-2, 2)\n",
    "    plt.gca().set_xlim(-2, 2)\n",
    "    plt.show()"
   ]
  },
  {
   "cell_type": "code",
   "execution_count": 10,
   "metadata": {},
   "outputs": [],
   "source": [
    "loss_fn = keras.losses.SparseCategoricalCrossentropy()\n",
    "mean_loss = keras.metrics.Mean()"
   ]
  },
  {
   "cell_type": "code",
   "execution_count": 11,
   "metadata": {},
   "outputs": [],
   "source": [
    "def plot_loss(step, epoch, mean_loss, X_batch, y_pred, plot_encoding):\n",
    "    template = 'Iteration: {}, Epoch: {}, Loss: {:.5f}, Batch_BER: {:.5f}'\n",
    "    if step % 10 == 0:\n",
    "        print(template.format(step, epoch, mean_loss.result(), B_Ber_m(X_batch, y_pred)))\n",
    "        if plot_encoding:\n",
    "            test_encoding()"
   ]
  },
  {
   "cell_type": "code",
   "execution_count": 12,
   "metadata": {},
   "outputs": [],
   "source": [
    "def plot_batch_loss(epoch, mean_loss, X_batch, y_pred):\n",
    "        template_outer_loop = 'Interim result for Epoch: {}, Loss: {:.5f}, Batch_BER: {:.5f}'\n",
    "        print(template_outer_loop.format(epoch, mean_loss.result(), B_Ber_m(X_batch, y_pred)))"
   ]
  },
  {
   "cell_type": "code",
   "execution_count": 13,
   "metadata": {},
   "outputs": [],
   "source": [
    "def split_train_data(x_sample, y_sample):\n",
    "    x_shaped = tf.reshape(x_sample, shape=[-1,2*n])\n",
    "    y_shaped = tf.reshape(y_sample, shape=[-1,2*n])\n",
    "    x_sample1, x_sample2 = tf.split(x_shaped, num_or_size_splits=2)\n",
    "    y_sample1, y_sample2 = tf.split(y_shaped, num_or_size_splits=2)\n",
    "    joint_sample = tf.concat([x_sample1, y_sample1], axis=1)\n",
    "    marg_sample = tf.concat([x_sample2, y_sample1], axis=1)\n",
    "    return joint_sample, marg_sample"
   ]
  },
  {
   "cell_type": "code",
   "execution_count": 14,
   "metadata": {},
   "outputs": [],
   "source": [
    "def train_mi(n_epochs=5, n_steps=20, batch_size=200, learning_rate=0.005):\n",
    "    optimizer_mi = keras.optimizers.Nadam(lr=learning_rate)\n",
    "    for epoch in range(1, n_epochs + 1): \n",
    "        print(\"Training in Epoch {}/{}\".format(epoch, n_epochs)) \n",
    "        for step in range(1, n_steps + 1):\n",
    "            X_batch = random_sample(batch_size*2)\n",
    "            with tf.GradientTape() as tape:\n",
    "                x_enc = encoder(X_batch, training=True)\n",
    "                y_recv = channel(x_enc)\n",
    "                joint_marg_s = split_train_data(x_enc, y_recv)\n",
    "                loss = -MI_mod(joint_marg_s)\n",
    "                gradients = tape.gradient(loss, MI_mod.trainable_variables) \n",
    "                optimizer_mi.apply_gradients(zip(gradients, MI_mod.trainable_variables))\n",
    "            mi_avg = -mean_loss(loss)\n",
    "        print('Epoch: {}, Mi is {}'.format(epoch, mi_avg))\n",
    "        mean_loss.reset_states()"
   ]
  },
  {
   "cell_type": "code",
   "execution_count": 15,
   "metadata": {},
   "outputs": [],
   "source": [
    "def train_decoder(n_epochs=5, n_steps=20, batch_size=200, learning_rate=0.005, plot_encoding=True):\n",
    "    optimizer_ae = keras.optimizers.Nadam(lr=learning_rate)\n",
    "    for epoch in range(1, n_epochs + 1): \n",
    "        print(\"Training Bob in Epoch {}/{}\".format(epoch, n_epochs)) \n",
    "        for step in range(1, n_steps + 1):\n",
    "            X_batch  = random_sample(batch_size)\n",
    "            with tf.GradientTape() as tape:\n",
    "                y_pred = autoencoder(X_batch, training=True)\n",
    "                loss = tf.reduce_mean(loss_fn(X_batch, y_pred))\n",
    "                gradients = tape.gradient(loss, decoder.trainable_variables) \n",
    "                optimizer_ae.apply_gradients(zip(gradients, decoder.trainable_variables)) \n",
    "            mean_loss(loss)\n",
    "            plot_loss(step, epoch, mean_loss, X_batch, y_pred, plot_encoding)\n",
    "        plot_batch_loss(epoch, mean_loss, X_batch, y_pred) \n",
    "        mean_loss.reset_states()"
   ]
  },
  {
   "cell_type": "code",
   "execution_count": 16,
   "metadata": {},
   "outputs": [],
   "source": [
    "def train_encoder(n_epochs=5, n_steps=20, batch_size=200, learning_rate=0.05):\n",
    "    optimizer_mi = keras.optimizers.Nadam(lr=0.005)\n",
    "    optimizer_ae = keras.optimizers.Nadam(lr=learning_rate)\n",
    "    for epoch in range(1, n_epochs + 1): \n",
    "        print(\"Training Bob in Epoch {}/{}\".format(epoch, n_epochs)) \n",
    "        for step in range(1, n_steps + 1):\n",
    "            X_batch  = random_sample(batch_size)\n",
    "            with tf.GradientTape() as tape:\n",
    "                x_enc = encoder(X_batch, training=True)\n",
    "                y_recv = channel(x_enc)\n",
    "                joint_marg_s = split_train_data(x_enc, y_recv)\n",
    "                loss = -MI_mod(joint_marg_s)\n",
    "                gradients = tape.gradient(loss, encoder.trainable_variables) \n",
    "                optimizer_ae.apply_gradients(zip(gradients, encoder.trainable_variables))\n",
    "            mi_avg = -mean_loss(loss)\n",
    "        with tf.GradientTape() as tape:\n",
    "            X_batch  = random_sample(batch_size) \n",
    "            x_enc = encoder(X_batch, training=True)\n",
    "            y_recv = channel(x_enc)\n",
    "            joint_marg_s = split_train_data(x_enc, y_recv)\n",
    "            loss = -MI_mod(joint_marg_s)\n",
    "            gradients = tape.gradient(loss, MI_mod.trainable_variables) \n",
    "            optimizer_mi.apply_gradients(zip(gradients, MI_mod.trainable_variables))\n",
    "        print('Epoch: {}, Mi is {}'.format(epoch, mi_avg))\n",
    "       # test_encoding(M, 1)"
   ]
  },
  {
   "cell_type": "code",
   "execution_count": 17,
   "metadata": {},
   "outputs": [],
   "source": [
    "# test msg sequence for normal encoding\n",
    "N_test = 500000\n",
    "test_msg = np.random.randint(M, size=N_test)"
   ]
  },
  {
   "cell_type": "code",
   "execution_count": 18,
   "metadata": {},
   "outputs": [],
   "source": [
    "def Test_AE(data):\n",
    "    '''Calculate Bit Error for varying SNRs'''\n",
    "    snr_range = np.linspace(0, 15, 31)\n",
    "    bber_vec = [None] * len(snr_range)\n",
    "        \n",
    "    for db in range(len(snr_range)):           \n",
    "        noise_std = EbNo_to_noise(snr_range[db])\n",
    "        code_word = encoder(data)\n",
    "        rcvd_word = code_word + tf.random.normal(tf.shape(code_word), mean=0.0, stddev=noise_std)\n",
    "        dcoded_msg = decoder(rcvd_word)\n",
    "        bber_vec[db] = B_Ber_m(data, dcoded_msg)\n",
    "        if (db % 6 == 0) & (db > 0):\n",
    "            print(f'Progress: {db} of {30} parts')\n",
    "\n",
    "    return (snr_range, bber_vec)"
   ]
  },
  {
   "cell_type": "code",
   "execution_count": 19,
   "metadata": {},
   "outputs": [
    {
     "name": "stdout",
     "output_type": "stream",
     "text": [
      "Training in Epoch 1/1\n",
      "Epoch: 1, Mi is 1.9259240627288818\n",
      "Training Bob in Epoch 1/5\n",
      "Epoch: 1, Mi is 1.9497288465499878\n",
      "Training Bob in Epoch 2/5\n",
      "Epoch: 2, Mi is 1.7972735166549683\n",
      "Training Bob in Epoch 3/5\n",
      "Epoch: 3, Mi is 1.8702070713043213\n",
      "Training Bob in Epoch 4/5\n",
      "Epoch: 4, Mi is 1.925620436668396\n",
      "Training Bob in Epoch 5/5\n",
      "Epoch: 5, Mi is 1.9469109773635864\n"
     ]
    },
    {
     "data": {
      "image/png": "[encoded data removed]",
      "text/plain": [
       "<Figure size 288x288 with 1 Axes>"
      ]
     },
     "metadata": {
      "needs_background": "light"
     },
     "output_type": "display_data"
    },
    {
     "name": "stdout",
     "output_type": "stream",
     "text": [
      "Training Bob in Epoch 1/5\n",
      "Epoch: 1, Mi is 1.9742803573608398\n",
      "Training Bob in Epoch 2/5\n",
      "Epoch: 2, Mi is 2.0083277225494385\n",
      "Training Bob in Epoch 3/5\n",
      "Epoch: 3, Mi is 2.03389048576355\n",
      "Training Bob in Epoch 4/5\n",
      "Epoch: 4, Mi is 2.0472254753112793\n",
      "Training Bob in Epoch 5/5\n",
      "Epoch: 5, Mi is 2.0466809272766113\n"
     ]
    },
    {
     "data": {
      "image/png": "[encoded data removed]",
      "text/plain": [
       "<Figure size 288x288 with 1 Axes>"
      ]
     },
     "metadata": {
      "needs_background": "light"
     },
     "output_type": "display_data"
    },
    {
     "name": "stdout",
     "output_type": "stream",
     "text": [
      "Training Bob in Epoch 1/5\n",
      "Iteration: 10, Epoch: 1, Loss: -2.03477, Batch_BER: 0.84000\n",
      "Iteration: 20, Epoch: 1, Loss: -2.02328, Batch_BER: 0.81000\n",
      "Iteration: 30, Epoch: 1, Loss: -2.01224, Batch_BER: 0.77400\n",
      "Iteration: 40, Epoch: 1, Loss: -2.00162, Batch_BER: 0.75400\n",
      "Iteration: 50, Epoch: 1, Loss: -1.99138, Batch_BER: 0.66400\n",
      "Iteration: 60, Epoch: 1, Loss: -1.98147, Batch_BER: 0.61800\n",
      "Iteration: 70, Epoch: 1, Loss: -1.97185, Batch_BER: 0.53400\n",
      "Iteration: 80, Epoch: 1, Loss: -1.96254, Batch_BER: 0.48200\n",
      "Iteration: 90, Epoch: 1, Loss: -1.95346, Batch_BER: 0.49800\n",
      "Iteration: 100, Epoch: 1, Loss: -1.94463, Batch_BER: 0.44400\n",
      "Iteration: 110, Epoch: 1, Loss: -1.93604, Batch_BER: 0.45200\n",
      "Iteration: 120, Epoch: 1, Loss: -1.92764, Batch_BER: 0.42200\n",
      "Iteration: 130, Epoch: 1, Loss: -1.91943, Batch_BER: 0.41400\n",
      "Iteration: 140, Epoch: 1, Loss: -1.91140, Batch_BER: 0.38200\n",
      "Iteration: 150, Epoch: 1, Loss: -1.90352, Batch_BER: 0.32000\n",
      "Iteration: 160, Epoch: 1, Loss: -1.89588, Batch_BER: 0.33000\n",
      "Iteration: 170, Epoch: 1, Loss: -1.88830, Batch_BER: 0.33200\n",
      "Iteration: 180, Epoch: 1, Loss: -1.88085, Batch_BER: 0.29400\n",
      "Iteration: 190, Epoch: 1, Loss: -1.87352, Batch_BER: 0.34200\n",
      "Iteration: 200, Epoch: 1, Loss: -1.86629, Batch_BER: 0.34400\n",
      "Iteration: 210, Epoch: 1, Loss: -1.85921, Batch_BER: 0.33800\n",
      "Iteration: 220, Epoch: 1, Loss: -1.85217, Batch_BER: 0.34800\n",
      "Iteration: 230, Epoch: 1, Loss: -1.84522, Batch_BER: 0.34200\n",
      "Iteration: 240, Epoch: 1, Loss: -1.83841, Batch_BER: 0.30800\n",
      "Iteration: 250, Epoch: 1, Loss: -1.83171, Batch_BER: 0.32000\n",
      "Iteration: 260, Epoch: 1, Loss: -1.82506, Batch_BER: 0.34200\n",
      "Iteration: 270, Epoch: 1, Loss: -1.81845, Batch_BER: 0.30800\n",
      "Iteration: 280, Epoch: 1, Loss: -1.81197, Batch_BER: 0.30800\n",
      "Iteration: 290, Epoch: 1, Loss: -1.80549, Batch_BER: 0.31200\n",
      "Iteration: 300, Epoch: 1, Loss: -1.79909, Batch_BER: 0.30200\n",
      "Iteration: 310, Epoch: 1, Loss: -1.79275, Batch_BER: 0.30400\n",
      "Iteration: 320, Epoch: 1, Loss: -1.78643, Batch_BER: 0.28800\n",
      "Iteration: 330, Epoch: 1, Loss: -1.78015, Batch_BER: 0.32600\n",
      "Iteration: 340, Epoch: 1, Loss: -1.77395, Batch_BER: 0.32600\n",
      "Iteration: 350, Epoch: 1, Loss: -1.76779, Batch_BER: 0.33400\n",
      "Iteration: 360, Epoch: 1, Loss: -1.76168, Batch_BER: 0.28000\n",
      "Iteration: 370, Epoch: 1, Loss: -1.75561, Batch_BER: 0.29800\n",
      "Iteration: 380, Epoch: 1, Loss: -1.74963, Batch_BER: 0.29200\n",
      "Iteration: 390, Epoch: 1, Loss: -1.74366, Batch_BER: 0.30400\n",
      "Iteration: 400, Epoch: 1, Loss: -1.73771, Batch_BER: 0.28400\n",
      "Interim result for Epoch: 1, Loss: -1.73771, Batch_BER: 0.28400\n",
      "Training Bob in Epoch 2/5\n",
      "Iteration: 10, Epoch: 2, Loss: 0.86779, Batch_BER: 0.31000\n",
      "Iteration: 20, Epoch: 2, Loss: 0.85675, Batch_BER: 0.27200\n",
      "Iteration: 30, Epoch: 2, Loss: 0.85402, Batch_BER: 0.29200\n",
      "Iteration: 40, Epoch: 2, Loss: 0.85085, Batch_BER: 0.28800\n",
      "Iteration: 50, Epoch: 2, Loss: 0.85076, Batch_BER: 0.31400\n",
      "Iteration: 60, Epoch: 2, Loss: 0.84562, Batch_BER: 0.30200\n",
      "Iteration: 70, Epoch: 2, Loss: 0.84444, Batch_BER: 0.30000\n",
      "Iteration: 80, Epoch: 2, Loss: 0.84130, Batch_BER: 0.28600\n",
      "Iteration: 90, Epoch: 2, Loss: 0.83751, Batch_BER: 0.34000\n",
      "Iteration: 100, Epoch: 2, Loss: 0.83538, Batch_BER: 0.29600\n",
      "Iteration: 110, Epoch: 2, Loss: 0.83386, Batch_BER: 0.29400\n",
      "Iteration: 120, Epoch: 2, Loss: 0.83392, Batch_BER: 0.30600\n",
      "Iteration: 130, Epoch: 2, Loss: 0.83009, Batch_BER: 0.24800\n",
      "Iteration: 140, Epoch: 2, Loss: 0.82886, Batch_BER: 0.31800\n",
      "Iteration: 150, Epoch: 2, Loss: 0.82640, Batch_BER: 0.27400\n",
      "Iteration: 160, Epoch: 2, Loss: 0.82585, Batch_BER: 0.33600\n",
      "Iteration: 170, Epoch: 2, Loss: 0.82454, Batch_BER: 0.32600\n",
      "Iteration: 180, Epoch: 2, Loss: 0.82365, Batch_BER: 0.29000\n",
      "Iteration: 190, Epoch: 2, Loss: 0.82098, Batch_BER: 0.26000\n",
      "Iteration: 200, Epoch: 2, Loss: 0.81969, Batch_BER: 0.29800\n",
      "Iteration: 210, Epoch: 2, Loss: 0.81708, Batch_BER: 0.29000\n",
      "Iteration: 220, Epoch: 2, Loss: 0.81615, Batch_BER: 0.30800\n",
      "Iteration: 230, Epoch: 2, Loss: 0.81512, Batch_BER: 0.28000\n",
      "Iteration: 240, Epoch: 2, Loss: 0.81406, Batch_BER: 0.27600\n",
      "Iteration: 250, Epoch: 2, Loss: 0.81273, Batch_BER: 0.24000\n",
      "Iteration: 260, Epoch: 2, Loss: 0.81170, Batch_BER: 0.26000\n",
      "Iteration: 270, Epoch: 2, Loss: 0.81079, Batch_BER: 0.30800\n",
      "Iteration: 280, Epoch: 2, Loss: 0.80923, Batch_BER: 0.27600\n",
      "Iteration: 290, Epoch: 2, Loss: 0.80773, Batch_BER: 0.28800\n",
      "Iteration: 300, Epoch: 2, Loss: 0.80623, Batch_BER: 0.32600\n",
      "Iteration: 310, Epoch: 2, Loss: 0.80519, Batch_BER: 0.28800\n",
      "Iteration: 320, Epoch: 2, Loss: 0.80455, Batch_BER: 0.28600\n",
      "Iteration: 330, Epoch: 2, Loss: 0.80438, Batch_BER: 0.25000\n",
      "Iteration: 340, Epoch: 2, Loss: 0.80311, Batch_BER: 0.25400\n",
      "Iteration: 350, Epoch: 2, Loss: 0.80220, Batch_BER: 0.26400\n",
      "Iteration: 360, Epoch: 2, Loss: 0.80109, Batch_BER: 0.28400\n",
      "Iteration: 370, Epoch: 2, Loss: 0.80045, Batch_BER: 0.27800\n",
      "Iteration: 380, Epoch: 2, Loss: 0.79936, Batch_BER: 0.30200\n",
      "Iteration: 390, Epoch: 2, Loss: 0.79808, Batch_BER: 0.28400\n",
      "Iteration: 400, Epoch: 2, Loss: 0.79716, Batch_BER: 0.28000\n",
      "Interim result for Epoch: 2, Loss: 0.79716, Batch_BER: 0.28000\n",
      "Training Bob in Epoch 3/5\n",
      "Iteration: 10, Epoch: 3, Loss: 0.75499, Batch_BER: 0.27200\n",
      "Iteration: 20, Epoch: 3, Loss: 0.77008, Batch_BER: 0.23400\n",
      "Iteration: 30, Epoch: 3, Loss: 0.77626, Batch_BER: 0.30200\n",
      "Iteration: 40, Epoch: 3, Loss: 0.77403, Batch_BER: 0.29600\n",
      "Iteration: 50, Epoch: 3, Loss: 0.77022, Batch_BER: 0.30400\n",
      "Iteration: 60, Epoch: 3, Loss: 0.76804, Batch_BER: 0.30200\n",
      "Iteration: 70, Epoch: 3, Loss: 0.76643, Batch_BER: 0.25800\n",
      "Iteration: 80, Epoch: 3, Loss: 0.76691, Batch_BER: 0.27800\n",
      "Iteration: 90, Epoch: 3, Loss: 0.76427, Batch_BER: 0.28200\n",
      "Iteration: 100, Epoch: 3, Loss: 0.76408, Batch_BER: 0.28400\n",
      "Iteration: 110, Epoch: 3, Loss: 0.76241, Batch_BER: 0.30600\n",
      "Iteration: 120, Epoch: 3, Loss: 0.76163, Batch_BER: 0.30000\n",
      "Iteration: 130, Epoch: 3, Loss: 0.75976, Batch_BER: 0.29400\n",
      "Iteration: 140, Epoch: 3, Loss: 0.75795, Batch_BER: 0.27000\n",
      "Iteration: 150, Epoch: 3, Loss: 0.75711, Batch_BER: 0.28800\n",
      "Iteration: 160, Epoch: 3, Loss: 0.75706, Batch_BER: 0.31200\n",
      "Iteration: 170, Epoch: 3, Loss: 0.75549, Batch_BER: 0.28800\n",
      "Iteration: 180, Epoch: 3, Loss: 0.75570, Batch_BER: 0.25400\n",
      "Iteration: 190, Epoch: 3, Loss: 0.75514, Batch_BER: 0.25800\n",
      "Iteration: 200, Epoch: 3, Loss: 0.75482, Batch_BER: 0.29400\n",
      "Iteration: 210, Epoch: 3, Loss: 0.75390, Batch_BER: 0.27800\n",
      "Iteration: 220, Epoch: 3, Loss: 0.75356, Batch_BER: 0.30800\n",
      "Iteration: 230, Epoch: 3, Loss: 0.75353, Batch_BER: 0.25600\n",
      "Iteration: 240, Epoch: 3, Loss: 0.75284, Batch_BER: 0.27800\n",
      "Iteration: 250, Epoch: 3, Loss: 0.75216, Batch_BER: 0.28200\n",
      "Iteration: 260, Epoch: 3, Loss: 0.75198, Batch_BER: 0.26200\n",
      "Iteration: 270, Epoch: 3, Loss: 0.75296, Batch_BER: 0.29800\n",
      "Iteration: 280, Epoch: 3, Loss: 0.75190, Batch_BER: 0.28400\n",
      "Iteration: 290, Epoch: 3, Loss: 0.75116, Batch_BER: 0.28400\n",
      "Iteration: 300, Epoch: 3, Loss: 0.75098, Batch_BER: 0.26800\n",
      "Iteration: 310, Epoch: 3, Loss: 0.75053, Batch_BER: 0.27200\n",
      "Iteration: 320, Epoch: 3, Loss: 0.75061, Batch_BER: 0.34800\n",
      "Iteration: 330, Epoch: 3, Loss: 0.75065, Batch_BER: 0.29000\n",
      "Iteration: 340, Epoch: 3, Loss: 0.75013, Batch_BER: 0.30000\n",
      "Iteration: 350, Epoch: 3, Loss: 0.75044, Batch_BER: 0.33800\n",
      "Iteration: 360, Epoch: 3, Loss: 0.75094, Batch_BER: 0.29600\n",
      "Iteration: 370, Epoch: 3, Loss: 0.75053, Batch_BER: 0.29800\n",
      "Iteration: 380, Epoch: 3, Loss: 0.75134, Batch_BER: 0.31800\n",
      "Iteration: 390, Epoch: 3, Loss: 0.75090, Batch_BER: 0.30200\n",
      "Iteration: 400, Epoch: 3, Loss: 0.75076, Batch_BER: 0.28600\n",
      "Interim result for Epoch: 3, Loss: 0.75076, Batch_BER: 0.28600\n",
      "Training Bob in Epoch 4/5\n",
      "Iteration: 10, Epoch: 4, Loss: 0.73778, Batch_BER: 0.28800\n",
      "Iteration: 20, Epoch: 4, Loss: 0.74317, Batch_BER: 0.26200\n",
      "Iteration: 30, Epoch: 4, Loss: 0.74224, Batch_BER: 0.24800\n",
      "Iteration: 40, Epoch: 4, Loss: 0.74355, Batch_BER: 0.29600\n",
      "Iteration: 50, Epoch: 4, Loss: 0.73971, Batch_BER: 0.27000\n",
      "Iteration: 60, Epoch: 4, Loss: 0.73941, Batch_BER: 0.27400\n",
      "Iteration: 70, Epoch: 4, Loss: 0.74001, Batch_BER: 0.27000\n",
      "Iteration: 80, Epoch: 4, Loss: 0.74241, Batch_BER: 0.30400\n",
      "Iteration: 90, Epoch: 4, Loss: 0.74372, Batch_BER: 0.24800\n",
      "Iteration: 100, Epoch: 4, Loss: 0.74541, Batch_BER: 0.27200\n",
      "Iteration: 110, Epoch: 4, Loss: 0.74411, Batch_BER: 0.24800\n",
      "Iteration: 120, Epoch: 4, Loss: 0.74319, Batch_BER: 0.28800\n",
      "Iteration: 130, Epoch: 4, Loss: 0.74416, Batch_BER: 0.28000\n"
     ]
    },
    {
     "name": "stdout",
     "output_type": "stream",
     "text": [
      "Iteration: 140, Epoch: 4, Loss: 0.74403, Batch_BER: 0.26800\n",
      "Iteration: 150, Epoch: 4, Loss: 0.74597, Batch_BER: 0.27600\n",
      "Iteration: 160, Epoch: 4, Loss: 0.74634, Batch_BER: 0.27000\n",
      "Iteration: 170, Epoch: 4, Loss: 0.74562, Batch_BER: 0.26400\n",
      "Iteration: 180, Epoch: 4, Loss: 0.74495, Batch_BER: 0.27000\n",
      "Iteration: 190, Epoch: 4, Loss: 0.74418, Batch_BER: 0.27400\n",
      "Iteration: 200, Epoch: 4, Loss: 0.74276, Batch_BER: 0.30400\n",
      "Iteration: 210, Epoch: 4, Loss: 0.74176, Batch_BER: 0.28800\n",
      "Iteration: 220, Epoch: 4, Loss: 0.74166, Batch_BER: 0.28400\n",
      "Iteration: 230, Epoch: 4, Loss: 0.74291, Batch_BER: 0.30400\n",
      "Iteration: 240, Epoch: 4, Loss: 0.74296, Batch_BER: 0.31800\n",
      "Iteration: 250, Epoch: 4, Loss: 0.74341, Batch_BER: 0.29600\n",
      "Iteration: 260, Epoch: 4, Loss: 0.74239, Batch_BER: 0.30600\n",
      "Iteration: 270, Epoch: 4, Loss: 0.74132, Batch_BER: 0.27000\n",
      "Iteration: 280, Epoch: 4, Loss: 0.74074, Batch_BER: 0.26800\n",
      "Iteration: 290, Epoch: 4, Loss: 0.74067, Batch_BER: 0.26200\n",
      "Iteration: 300, Epoch: 4, Loss: 0.74104, Batch_BER: 0.28200\n",
      "Iteration: 310, Epoch: 4, Loss: 0.74124, Batch_BER: 0.32000\n",
      "Iteration: 320, Epoch: 4, Loss: 0.74139, Batch_BER: 0.26000\n",
      "Iteration: 330, Epoch: 4, Loss: 0.74130, Batch_BER: 0.29000\n",
      "Iteration: 340, Epoch: 4, Loss: 0.74143, Batch_BER: 0.31200\n",
      "Iteration: 350, Epoch: 4, Loss: 0.74063, Batch_BER: 0.28800\n",
      "Iteration: 360, Epoch: 4, Loss: 0.74029, Batch_BER: 0.25800\n",
      "Iteration: 370, Epoch: 4, Loss: 0.74040, Batch_BER: 0.25200\n",
      "Iteration: 380, Epoch: 4, Loss: 0.73920, Batch_BER: 0.26200\n",
      "Iteration: 390, Epoch: 4, Loss: 0.73933, Batch_BER: 0.29400\n",
      "Iteration: 400, Epoch: 4, Loss: 0.73964, Batch_BER: 0.32000\n",
      "Interim result for Epoch: 4, Loss: 0.73964, Batch_BER: 0.32000\n",
      "Training Bob in Epoch 5/5\n",
      "Iteration: 10, Epoch: 5, Loss: 0.73184, Batch_BER: 0.29000\n",
      "Iteration: 20, Epoch: 5, Loss: 0.72948, Batch_BER: 0.28000\n",
      "Iteration: 30, Epoch: 5, Loss: 0.73461, Batch_BER: 0.30800\n",
      "Iteration: 40, Epoch: 5, Loss: 0.73207, Batch_BER: 0.27000\n",
      "Iteration: 50, Epoch: 5, Loss: 0.72975, Batch_BER: 0.30400\n",
      "Iteration: 60, Epoch: 5, Loss: 0.73519, Batch_BER: 0.28400\n",
      "Iteration: 70, Epoch: 5, Loss: 0.73350, Batch_BER: 0.29200\n",
      "Iteration: 80, Epoch: 5, Loss: 0.73405, Batch_BER: 0.26000\n",
      "Iteration: 90, Epoch: 5, Loss: 0.73285, Batch_BER: 0.27800\n",
      "Iteration: 100, Epoch: 5, Loss: 0.73440, Batch_BER: 0.25600\n",
      "Iteration: 110, Epoch: 5, Loss: 0.73237, Batch_BER: 0.29800\n",
      "Iteration: 120, Epoch: 5, Loss: 0.73321, Batch_BER: 0.32600\n",
      "Iteration: 130, Epoch: 5, Loss: 0.73466, Batch_BER: 0.30800\n",
      "Iteration: 140, Epoch: 5, Loss: 0.73595, Batch_BER: 0.30800\n",
      "Iteration: 150, Epoch: 5, Loss: 0.73626, Batch_BER: 0.28800\n",
      "Iteration: 160, Epoch: 5, Loss: 0.73488, Batch_BER: 0.24800\n",
      "Iteration: 170, Epoch: 5, Loss: 0.73428, Batch_BER: 0.27200\n",
      "Iteration: 180, Epoch: 5, Loss: 0.73437, Batch_BER: 0.27600\n",
      "Iteration: 190, Epoch: 5, Loss: 0.73545, Batch_BER: 0.26400\n",
      "Iteration: 200, Epoch: 5, Loss: 0.73618, Batch_BER: 0.29200\n",
      "Iteration: 210, Epoch: 5, Loss: 0.73773, Batch_BER: 0.27000\n",
      "Iteration: 220, Epoch: 5, Loss: 0.73650, Batch_BER: 0.29000\n",
      "Iteration: 230, Epoch: 5, Loss: 0.73660, Batch_BER: 0.35600\n",
      "Iteration: 240, Epoch: 5, Loss: 0.73587, Batch_BER: 0.29600\n",
      "Iteration: 250, Epoch: 5, Loss: 0.73563, Batch_BER: 0.28000\n",
      "Iteration: 260, Epoch: 5, Loss: 0.73693, Batch_BER: 0.30000\n",
      "Iteration: 270, Epoch: 5, Loss: 0.73724, Batch_BER: 0.28000\n",
      "Iteration: 280, Epoch: 5, Loss: 0.73723, Batch_BER: 0.27400\n",
      "Iteration: 290, Epoch: 5, Loss: 0.73617, Batch_BER: 0.27200\n",
      "Iteration: 300, Epoch: 5, Loss: 0.73637, Batch_BER: 0.31000\n",
      "Iteration: 310, Epoch: 5, Loss: 0.73706, Batch_BER: 0.29400\n",
      "Iteration: 320, Epoch: 5, Loss: 0.73682, Batch_BER: 0.25200\n",
      "Iteration: 330, Epoch: 5, Loss: 0.73703, Batch_BER: 0.29600\n",
      "Iteration: 340, Epoch: 5, Loss: 0.73704, Batch_BER: 0.28400\n",
      "Iteration: 350, Epoch: 5, Loss: 0.73686, Batch_BER: 0.26000\n",
      "Iteration: 360, Epoch: 5, Loss: 0.73678, Batch_BER: 0.29800\n",
      "Iteration: 370, Epoch: 5, Loss: 0.73630, Batch_BER: 0.27600\n",
      "Iteration: 380, Epoch: 5, Loss: 0.73678, Batch_BER: 0.28800\n",
      "Iteration: 390, Epoch: 5, Loss: 0.73684, Batch_BER: 0.30400\n",
      "Iteration: 400, Epoch: 5, Loss: 0.73659, Batch_BER: 0.28600\n",
      "Interim result for Epoch: 5, Loss: 0.73659, Batch_BER: 0.28600\n"
     ]
    }
   ],
   "source": [
    "train_mi(n_epochs=1, n_steps=500, batch_size=128)\n",
    "train_encoder(n_epochs=5, n_steps=400, batch_size=500, learning_rate=0.005)\n",
    "test_encoding(M, 1)\n",
    "train_encoder(n_epochs=5, n_steps=400, batch_size=500, learning_rate=0.0005)\n",
    "test_encoding(M, 1)\n",
    "train_decoder(n_epochs=5, n_steps=400, batch_size=500, learning_rate=0.005, plot_encoding=False)"
   ]
  },
  {
   "cell_type": "code",
   "execution_count": 20,
   "metadata": {},
   "outputs": [
    {
     "name": "stdout",
     "output_type": "stream",
     "text": [
      "Progress: 6 of 30 parts\n",
      "Progress: 12 of 30 parts\n",
      "Progress: 18 of 30 parts\n",
      "Progress: 24 of 30 parts\n",
      "Progress: 30 of 30 parts\n"
     ]
    }
   ],
   "source": [
    "bber_data = Test_AE(test_msg)"
   ]
  },
  {
   "cell_type": "code",
   "execution_count": 21,
   "metadata": {},
   "outputs": [
    {
     "data": {
      "image/png": "[encoded data removed]",
      "text/plain": [
       "<Figure size 576x360 with 1 Axes>"
      ]
     },
     "metadata": {
      "needs_background": "light"
     },
     "output_type": "display_data"
    }
   ],
   "source": [
    "# Approximate 16 QAM Error\n",
    "def SIXT_QAM_sim(ebno):\n",
    "    return (3.0/2)*special.erfc(np.sqrt((4.0/10)*10.**(ebno/10)))\n",
    "\n",
    "ebnodbs = np.linspace(0,15,16)\n",
    "fig = plt.figure(figsize=(8, 5))\n",
    "plt.semilogy(bber_data[0], bber_data[1], 'o-')\n",
    "\n",
    "plt.semilogy(ebnodbs, SIXT_QAM_sim(ebnodbs), '^-');\n",
    "plt.gca().set_ylim(1e-5, 1)\n",
    "plt.gca().set_xlim(0, 15)\n",
    "plt.ylabel(\"Batch Symbol Error Rate\", fontsize=14, rotation=90)\n",
    "plt.xlabel(\"SNR [dB]\", fontsize=18)\n",
    "plt.legend(['AE with MINE', '16QAM'],\n",
    "           prop={'size': 14}, loc='upper right');\n",
    "plt.grid(True, which=\"both\")"
   ]
  }
 ],
 "metadata": {
  "kernelspec": {
   "display_name": "Python 3",
   "language": "python",
   "name": "python3"
  },
  "language_info": {
   "codemirror_mode": {
    "name": "ipython",
    "version": 3
   },
   "file_extension": ".py",
   "mimetype": "text/x-python",
   "name": "python",
   "nbconvert_exporter": "python",
   "pygments_lexer": "ipython3",
   "version": "3.6.10"
  }
 },
 "nbformat": 4,
 "nbformat_minor": 2
}
